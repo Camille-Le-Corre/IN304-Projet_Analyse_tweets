{
 "cells": [
  {
   "attachments": {},
   "cell_type": "markdown",
   "metadata": {},
   "source": [
    "## **TD 11 et 12 - Collecte, Traitement, et Analyse de données de réseaux sociaux**\n",
    "\n",
    "##### *LEFEVRE Laura et LE CORRE Camille - LDD BI*\n",
    "\n",
    "\n",
    "### I- Traitement des données\n",
    "\n",
    "Dans cette première partie, nous récupérons les données, nous les nettoyons et les organisons, pour obtenir un DataFrame contenant les données qui nous intéressent pour la suite du projet."
   ]
  },
  {
   "cell_type": "code",
   "execution_count": 31,
   "metadata": {},
   "outputs": [],
   "source": [
    "# Importation des différents modules utilisés dans notre programme\n",
    "\n",
    "import json\n",
    "import re\n",
    "import pandas as pd\n",
    "import os\n",
    "import random as rd\n",
    "from textblob import TextBlob\n",
    "from textblob_fr import PatternTagger, PatternAnalyzer\n",
    "import matplotlib as plt\n",
    "\n",
    "# Modules a installer\n",
    "    #!pip install textblob\n",
    "    #!pip install textblob-fr"
   ]
  },
  {
   "attachments": {},
   "cell_type": "markdown",
   "metadata": {},
   "source": [
    "Dans un premier temps, on définit une fonction qui va nous permettre de récupérer dans une variable, la liste des dictionnaires représentant les différents tweets contenu dans le fichier json."
   ]
  },
  {
   "cell_type": "code",
   "execution_count": 5,
   "metadata": {},
   "outputs": [],
   "source": [
    "def openFile(fileName):\n",
    "    '''Fonction qui permet de lire et de recuperer un fichier json dans une variable data_dict'''\n",
    "    \n",
    "    with open(fileName, encoding='utf8') as json_data:\n",
    "        data_dict = json.load(json_data)\n",
    "        \n",
    "        return data_dict"
   ]
  },
  {
   "attachments": {},
   "cell_type": "markdown",
   "metadata": {},
   "source": [
    "Par exemple, la commande suivante permet de récupérer dans la varible dic, la liste des tweets du fichier \"versailles_tweets_100.json\". On obtient une liste de dictionnaire et dic[0] nous permet de visualiser le premier tweet. On peut voir qu'il possède plusieurs éléments qui ne vont pas nous servir. Nous allons donc pouvoir nettoyer chacun des tweets, en gardant les informations essentiels (author_id, text, hastags...). De plus, on va pouvoir nettoyer le texte du tweet en supprimant tous les caractères spéciaux."
   ]
  },
  {
   "cell_type": "code",
   "execution_count": 8,
   "metadata": {},
   "outputs": [
    {
     "data": {
      "text/plain": [
       "{'_id': '1421616335700824064',\n",
       " 'public_metrics': {'retweet_count': 0,\n",
       "  'reply_count': 0,\n",
       "  'like_count': 1,\n",
       "  'quote_count': 0},\n",
       " 'id': '1421616335700824064',\n",
       " 'conversation_id': '1421616335700824064',\n",
       " 'author_id': '1339914264522461187',\n",
       " 'text': 'Goumin des éléphants joueurs la même fatigue même 😫 #twitter225',\n",
       " 'geo': {'place_id': '00b8943291443c8c'},\n",
       " 'lang': 'fr',\n",
       " 'created_at': '2021-07-31T23:38:41.000Z',\n",
       " 'entities': {'hashtags': [{'start': 52, 'end': 63, 'tag': 'twitter225'}]}}"
      ]
     },
     "execution_count": 8,
     "metadata": {},
     "output_type": "execute_result"
    }
   ],
   "source": [
    "dic = openFile(\"versailles_tweets_100.json\")\n",
    "dic[0]\n",
    "\n",
    "# changer nom"
   ]
  },
  {
   "attachments": {},
   "cell_type": "markdown",
   "metadata": {},
   "source": [
    "On code les fonctions permettant le nettoyage :"
   ]
  },
  {
   "attachments": {},
   "cell_type": "markdown",
   "metadata": {},
   "source": [
    "1. Supprimer les emojis"
   ]
  },
  {
   "cell_type": "code",
   "execution_count": 9,
   "metadata": {},
   "outputs": [],
   "source": [
    "def removeEmojis(data):\n",
    "    '''Fonction qui permet de supprimer les emojis du text d'un tweet \n",
    "    (source : https://stackoverflow.com/questions/33404752/removing-emojis-from-a-string-in-python)'''\n",
    "    \n",
    "    emoj = re.compile(\"[\"\n",
    "        u\"\\U0001F600-\\U0001F64F\"  # emoticons\n",
    "        u\"\\U0001F300-\\U0001F5FF\"  # symbols & pictographs\n",
    "        u\"\\U0001F680-\\U0001F6FF\"  # transport & map symbols\n",
    "        u\"\\U0001F1E0-\\U0001F1FF\"  # flags (iOS)\n",
    "        u\"\\U00002500-\\U00002BEF\"  # chinese char\n",
    "        u\"\\U00002702-\\U000027B0\"\n",
    "        u\"\\U00002702-\\U000027B0\"\n",
    "        u\"\\U000024C2-\\U0001F251\"\n",
    "        u\"\\U0001f926-\\U0001f937\"\n",
    "        u\"\\U00010000-\\U0010ffff\"\n",
    "        u\"\\u2640-\\u2642\" \n",
    "        u\"\\u2600-\\u2B55\"\n",
    "        u\"\\u200d\"\n",
    "        u\"\\u23cf\"\n",
    "        u\"\\u23e9\"\n",
    "        u\"\\u231a\"\n",
    "        u\"\\ufe0f\"  # dingbats\n",
    "        u\"\\u3030\"\n",
    "                      \"]+\", re.UNICODE)\n",
    "    return re.sub(emoj, '', data)"
   ]
  },
  {
   "attachments": {},
   "cell_type": "markdown",
   "metadata": {},
   "source": [
    "2. Supprimer tous les caractères spéciaux"
   ]
  },
  {
   "cell_type": "code",
   "execution_count": 10,
   "metadata": {},
   "outputs": [],
   "source": [
    "def cleanText(text):\n",
    "    '''Fonction qui permet de nettoyer le texte d'un tweet a l'aide de regex'''\n",
    "    \n",
    "    text = text.lower()\n",
    "    text = removeEmojis(text)\n",
    "    text = re.sub(r'https?:\\/\\/.*[\\r\\n]*', \"\", text)                            # suppression des URL\n",
    "    text = re.sub(r'@([A-Za-z0-9_]+)', \"\", text)                                # suppresion des mentions\n",
    "    text = re.sub(r\"[A-Za-z\\.]*[0-9]+[A-Za-z%°\\.]*\", \"\", text)\n",
    "    text = re.sub(r\"#([A-Za-z0-9_]+)\", \"\", text)                                # suppresion des hashtags\n",
    "    text = re.sub(r\"[\\,\\!\\?\\%\\(\\)\\/\\\"\\&\\+\\#\\$\\£\\%\\:\\.\\@\\-\\n]\", \"\", text)\n",
    "    text = re.sub(r\"[\\é\\è\\ê]\", \"e\", text)\n",
    "    text = re.sub(r\"[\\ù]\", \"u\", text)\n",
    "    text = re.sub(r\"[\\à]\", \"a\", text)\n",
    "    text = re.sub(r\"[\\î\\ï]\", \"i\", text)\n",
    "    text = re.sub(r\"( )+\", \" \", text)\n",
    "    text = re.sub(r\"( )*$\", \"\", text)\n",
    "    text = re.sub(r\"^( )\", \"\", text)\n",
    "    \n",
    "    return text"
   ]
  },
  {
   "attachments": {},
   "cell_type": "markdown",
   "metadata": {},
   "source": [
    "Il faut maintenant créer la zone d'atterrissage des tweets. \n",
    "On créer donc une fonction qui va nous permettre d'ajouter les tweets dans un autre fichier (zone_atterrissage.json), semblable à l'initial, mais avec les textes des tweets nettoyés. "
   ]
  },
  {
   "cell_type": "code",
   "execution_count": 11,
   "metadata": {},
   "outputs": [],
   "source": [
    "def zoneAtterrissage(tweet):\n",
    "    '''Fonction qui permet de creer la zone d'atterrisage des tweets. Elle ajoute dans un fichier zone d'atterrissage, un tweet en le nettoyant.'''\n",
    "    \n",
    "    # Nettoie le texte du tweet et remplace le texte initiale par le texte nettoye\n",
    "    tweet_clean = cleanText(tweet['text'])\n",
    "    tweet['text'] = tweet_clean\n",
    "    \n",
    "    # Si le fichier de la zone d'atterrissage n'existe pas, on le creer et on y ajoute le tweet\n",
    "    if os.path.exists(\"zone_atterrissage.json\") == False:\n",
    "        with open(\"zone_atterrissage.json\", \"w\") as fil:\n",
    "            json.dump([tweet], fil)\n",
    "    \n",
    "    # Sinon, on recupere les tweets deja presents, et on y ajoute celui en cours de traitement\n",
    "    else :\n",
    "        li_tweet = openFile(\"zone_atterrissage.json\")\n",
    "        with open(\"zone_atterrissage.json\", 'w') as filout :\n",
    "            li_tweet.append(tweet)\n",
    "            json.dump(li_tweet, filout)\n",
    "            \n",
    "    return\n",
    "       "
   ]
  },
  {
   "attachments": {},
   "cell_type": "markdown",
   "metadata": {},
   "source": [
    "Il nous faut à présent une fonction qui va nous permettre de traiter les tweets que l'on a à disposition. On va donc envoyer chaque tweet dans la zone d'atterrissage, l'un après l'autre."
   ]
  },
  {
   "cell_type": "code",
   "execution_count": 12,
   "metadata": {},
   "outputs": [],
   "source": [
    "def traitement_nettoyage(liste_tweet:list):\n",
    "    '''Cette fonction permet de traiter tous les tweets et de les envoyer dans la zone d'atterrissage'''\n",
    "\n",
    "    for elt in liste_tweet:\n",
    "        zoneAtterrissage(elt)\n",
    "    \n",
    "    return"
   ]
  },
  {
   "attachments": {},
   "cell_type": "markdown",
   "metadata": {},
   "source": [
    "On execute cette méthode en passant en paramètre le fichier json contenant les tweets. Après l'exécution on obtient un nouveau fichier json avec les tweets nettoyés."
   ]
  },
  {
   "cell_type": "code",
   "execution_count": 14,
   "metadata": {},
   "outputs": [],
   "source": [
    "traitement_nettoyage(dic)"
   ]
  },
  {
   "attachments": {},
   "cell_type": "markdown",
   "metadata": {},
   "source": [
    "A présent, tous les tweets sont stockés dans un nouveau fichier (zone_atterrissage.json). Ils sont nettoyés et on va pouvoir créer une zone d'entrepot, sous forme de DataFrame. On va y stocker tous les tweets avec seulement les informations dont on a besoin.\n",
    "On va donc créer un certain nombre de fonctions qui vont nous permettre de récupérer ces informations."
   ]
  },
  {
   "attachments": {},
   "cell_type": "markdown",
   "metadata": {},
   "source": [
    "1. Une fonction nous permettant d'extraire le texte d'un tweet"
   ]
  },
  {
   "cell_type": "code",
   "execution_count": 15,
   "metadata": {},
   "outputs": [],
   "source": [
    "def textExtract(tweet):\n",
    "    '''Fonction qui retourne le text d'un tweet'''\n",
    "\n",
    "    # On recupere le texte\n",
    "    text = tweet.get(\"text\")\n",
    "\n",
    "    # S'il n'y as pas de text (exemple : c'etait une mention), on retourne None\n",
    "    if text == '':\n",
    "        return\n",
    "    \n",
    "    return text"
   ]
  },
  {
   "attachments": {},
   "cell_type": "markdown",
   "metadata": {},
   "source": [
    "2. Une fonction nous permettant d'extraire les hashtags d'un tweet"
   ]
  },
  {
   "cell_type": "code",
   "execution_count": 16,
   "metadata": {},
   "outputs": [],
   "source": [
    "def listHashtags(tweet):\n",
    "    ''' Fonction qui renvoie la liste de hashtags d'un tweet.\n",
    "    Cette fonction est utilisée dans la fonction ZoneEntrepot '''\n",
    "\n",
    "    list_hashtags = []\n",
    "    if \"entities\" in tweet:\n",
    "        if \"hashtags\" in tweet[\"entities\"]:                # on vérifie qu'il y a au moins un hashtag\n",
    "            for h in range(len(tweet[\"entities\"][\"hashtags\"])):            # on parcourt la liste des hashtags\n",
    "                list_hashtags.append(tweet[\"entities\"][\"hashtags\"][h][\"tag\"])   \n",
    "            \n",
    "            return list_hashtags\n",
    "    \n",
    "    return"
   ]
  },
  {
   "cell_type": "markdown",
   "metadata": {},
   "source": [
    "3. Une fonction nous permettant de récupérer les utilisateurs mentionnés"
   ]
  },
  {
   "cell_type": "code",
   "execution_count": 17,
   "metadata": {},
   "outputs": [],
   "source": [
    "def listMentionedUsers(tweet):\n",
    "    ''' Fonction qui renvoie la liste des utilisateurs mentionnés dans un tweet.\n",
    "    Cette fonction est utilisée dans la fonction ZoneEntrepot '''\n",
    "\n",
    "    list_mentioned_users = []\n",
    "    \n",
    "    if \"entities\" in tweet:\n",
    "        if \"mentions\" in tweet[\"entities\"]:                # on vérifie qu'il y a au moins un utilisateur mentionné\n",
    "            for m in range(len(tweet[\"entities\"][\"mentions\"])):            # on parcourt la liste des utilisateurs mentionnés\n",
    "                list_mentioned_users.append(tweet[\"entities\"][\"mentions\"][m][\"username\"])\n",
    "            \n",
    "            return list_mentioned_users\n",
    "    return"
   ]
  },
  {
   "attachments": {},
   "cell_type": "markdown",
   "metadata": {},
   "source": [
    "4. Une fonction nous permettant d'attribuer un topic à un tweet"
   ]
  },
  {
   "cell_type": "code",
   "execution_count": 18,
   "metadata": {},
   "outputs": [],
   "source": [
    "def topic(tweet):\n",
    "    ''' Fonction qui attribue un topic à un tweet de façon aléatoire.\n",
    "    Cette fonction est utilisée dans la fonction ZoneEntrepot '''\n",
    "    \n",
    "    topics = ['sport', 'politic', 'environment', 'TV', 'animal', 'nature', 'celebrity',\n",
    "                                'travel', 'singing', 'love', 'fun', 'history', 'culture']\n",
    "    \n",
    "    if tweet.get('text') != '':             # si le tweet contient un texte\n",
    "        return rd.choice(topics)            # on va lui attribuer un topic\n",
    "    \n",
    "    return                                  # sinon, aucun topic n'est attribué "
   ]
  },
  {
   "attachments": {},
   "cell_type": "markdown",
   "metadata": {},
   "source": [
    "5. Une fonction nous permettant d'attribuer un sentiment au tweet (en fonction du texte)"
   ]
  },
  {
   "cell_type": "code",
   "execution_count": 19,
   "metadata": {},
   "outputs": [],
   "source": [
    "# /!\\ il faut trouver le paramètre pour l'adapter en français ou toutes les langues\n",
    "\n",
    "def feeling(tweet):\n",
    "    ''' Fonction qui détermine le sentiment d'un tweet (positif, négatif ou neutre).\n",
    "    Cette fonction est utilisée dans la fonction ZoneEntrepot '''\n",
    "    \n",
    "    feeling = TextBlob(tweet.get(\"text\")).sentiment\n",
    "    \n",
    "    if feeling[0] < 0:\n",
    "        return \"negative\"\n",
    "    elif feeling[0] == 0:\n",
    "        return \"neutral\"\n",
    "    else:\n",
    "        return \"positive\""
   ]
  },
  {
   "attachments": {},
   "cell_type": "markdown",
   "metadata": {},
   "source": [
    "Après avoir déclaré toutes ces fonctions, on peut créer la fonction zoneEntrepot pour créer un DataFrame contenant les tweets avec les informations des fonctions précédentes. Chaque tweet va correspondre à une ligne."
   ]
  },
  {
   "cell_type": "code",
   "execution_count": 33,
   "metadata": {},
   "outputs": [],
   "source": [
    "def zoneEntrepot(list):\n",
    "    '''Fonction qui prend en entrée la liste des dictionnaires correspondant\n",
    "    aux tweets issus du fichier zone_atterrissage.json et qui créer un DataFrame\n",
    "    contenant uniquement les informations qui nous intéressent'''\n",
    "\n",
    "    # Création d'un DataFrame\n",
    "    zone_entrepot = pd.DataFrame(columns = ['author_id', 'text', 'hashtags', 'mentioned_users', 'topics', 'feelings'])\n",
    "\n",
    "    for k in range(len(list)):        # on travaille sur un tweet à la fois\n",
    "        # Création d'une liste qui va contenir toutes les informations utiles de ce tweet\n",
    "        tweet = []\n",
    "        \n",
    "        # Ajout à cette liste des informations récupérées de la zone d'atterissage\n",
    "        tweet.extend([list[k].get(\"author_id\"), textExtract(list[k]), listHashtags(list[k]), listMentionedUsers(list[k]),topic(list[k]), feeling(list[k])])  \n",
    "        \n",
    "        # Ajout de la ligne correspondant au tweet à notre DataFrame\n",
    "        zone_entrepot.loc[k+1] = tweet\n",
    "\n",
    "    return zone_entrepot    "
   ]
  },
  {
   "cell_type": "code",
   "execution_count": null,
   "metadata": {},
   "outputs": [],
   "source": [
    "def traitement_entrepot(file:list):\n",
    "    '''Fonction qui effectue le traitement d'une liste de tweets provenant de la zone d'atterrissage. Le traitement consiste à envoyer \n",
    "    les tweets dans une zone d'entrepot avec les informations essentielles'''\n"
   ]
  },
  {
   "cell_type": "code",
   "execution_count": 42,
   "metadata": {},
   "outputs": [
    {
     "data": {
      "text/html": [
       "<div>\n",
       "<style scoped>\n",
       "    .dataframe tbody tr th:only-of-type {\n",
       "        vertical-align: middle;\n",
       "    }\n",
       "\n",
       "    .dataframe tbody tr th {\n",
       "        vertical-align: top;\n",
       "    }\n",
       "\n",
       "    .dataframe thead th {\n",
       "        text-align: right;\n",
       "    }\n",
       "</style>\n",
       "<table border=\"1\" class=\"dataframe\">\n",
       "  <thead>\n",
       "    <tr style=\"text-align: right;\">\n",
       "      <th></th>\n",
       "      <th>author_id</th>\n",
       "      <th>text</th>\n",
       "      <th>hashtags</th>\n",
       "      <th>mentioned_users</th>\n",
       "      <th>topics</th>\n",
       "      <th>feelings</th>\n",
       "    </tr>\n",
       "  </thead>\n",
       "  <tbody>\n",
       "    <tr>\n",
       "      <th>1</th>\n",
       "      <td>1339914264522461187</td>\n",
       "      <td>goumin des elephants joueurs la meme fatigue meme</td>\n",
       "      <td>[twitter225]</td>\n",
       "      <td>None</td>\n",
       "      <td>nature</td>\n",
       "      <td>neutral</td>\n",
       "    </tr>\n",
       "    <tr>\n",
       "      <th>2</th>\n",
       "      <td>1339914264522461187</td>\n",
       "      <td>mes tontons vous avez fait votre part jo proch...</td>\n",
       "      <td>[SupportriceMazo, domie, CIV]</td>\n",
       "      <td>[ericbailly24, maxigr04del]</td>\n",
       "      <td>travel</td>\n",
       "      <td>neutral</td>\n",
       "    </tr>\n",
       "    <tr>\n",
       "      <th>3</th>\n",
       "      <td>1339914264522461187</td>\n",
       "      <td>ah oui le sommeil la sera complique est elimin...</td>\n",
       "      <td>[CIV]</td>\n",
       "      <td>None</td>\n",
       "      <td>love</td>\n",
       "      <td>neutral</td>\n",
       "    </tr>\n",
       "    <tr>\n",
       "      <th>4</th>\n",
       "      <td>1339914264522461187</td>\n",
       "      <td>juillet journee internationale de la femme afr...</td>\n",
       "      <td>[jifa]</td>\n",
       "      <td>None</td>\n",
       "      <td>fun</td>\n",
       "      <td>neutral</td>\n",
       "    </tr>\n",
       "    <tr>\n",
       "      <th>5</th>\n",
       "      <td>717025418</td>\n",
       "      <td>le pedigree</td>\n",
       "      <td>None</td>\n",
       "      <td>None</td>\n",
       "      <td>politic</td>\n",
       "      <td>neutral</td>\n",
       "    </tr>\n",
       "    <tr>\n",
       "      <th>6</th>\n",
       "      <td>992904738516717570</td>\n",
       "      <td>vous avez tt a fait raison le silence incompre...</td>\n",
       "      <td>None</td>\n",
       "      <td>[isabelle170516, leonna_julie, Steiner2502]</td>\n",
       "      <td>sport</td>\n",
       "      <td>positive</td>\n",
       "    </tr>\n",
       "    <tr>\n",
       "      <th>7</th>\n",
       "      <td>992904738516717570</td>\n",
       "      <td>la grande muette continue et continuera de le ...</td>\n",
       "      <td>None</td>\n",
       "      <td>[LynLyna12, leonna_julie]</td>\n",
       "      <td>politic</td>\n",
       "      <td>neutral</td>\n",
       "    </tr>\n",
       "    <tr>\n",
       "      <th>8</th>\n",
       "      <td>736523371</td>\n",
       "      <td>under wsh</td>\n",
       "      <td>None</td>\n",
       "      <td>None</td>\n",
       "      <td>environment</td>\n",
       "      <td>neutral</td>\n",
       "    </tr>\n",
       "    <tr>\n",
       "      <th>9</th>\n",
       "      <td>1471684208</td>\n",
       "      <td>les bains d'apollon a château de versailles</td>\n",
       "      <td>[versailles, nocturne, appollon]</td>\n",
       "      <td>None</td>\n",
       "      <td>love</td>\n",
       "      <td>neutral</td>\n",
       "    </tr>\n",
       "    <tr>\n",
       "      <th>10</th>\n",
       "      <td>992904738516717570</td>\n",
       "      <td>le rdv aujourd'hui aura tenu ses promesses pou...</td>\n",
       "      <td>None</td>\n",
       "      <td>[leonna_julie]</td>\n",
       "      <td>history</td>\n",
       "      <td>neutral</td>\n",
       "    </tr>\n",
       "    <tr>\n",
       "      <th>11</th>\n",
       "      <td>3169236915</td>\n",
       "      <td>il est temps de laisser mijoter</td>\n",
       "      <td>None</td>\n",
       "      <td>[miliemelo82, kilianbridoux, LeMeneec]</td>\n",
       "      <td>nature</td>\n",
       "      <td>neutral</td>\n",
       "    </tr>\n",
       "    <tr>\n",
       "      <th>12</th>\n",
       "      <td>992904738516717570</td>\n",
       "      <td>un mouton c'est bien plus intelligent que toi</td>\n",
       "      <td>None</td>\n",
       "      <td>[Polo82810715, lrestistant73]</td>\n",
       "      <td>fun</td>\n",
       "      <td>positive</td>\n",
       "    </tr>\n",
       "    <tr>\n",
       "      <th>13</th>\n",
       "      <td>16267684</td>\n",
       "      <td>i'm at gardens of versailles in versailles ile...</td>\n",
       "      <td>None</td>\n",
       "      <td>None</td>\n",
       "      <td>history</td>\n",
       "      <td>neutral</td>\n",
       "    </tr>\n",
       "    <tr>\n",
       "      <th>14</th>\n",
       "      <td>60117154</td>\n",
       "      <td>jungle cruise</td>\n",
       "      <td>None</td>\n",
       "      <td>None</td>\n",
       "      <td>culture</td>\n",
       "      <td>neutral</td>\n",
       "    </tr>\n",
       "    <tr>\n",
       "      <th>15</th>\n",
       "      <td>3169236915</td>\n",
       "      <td>None</td>\n",
       "      <td>None</td>\n",
       "      <td>[Pauluskupa]</td>\n",
       "      <td>None</td>\n",
       "      <td>neutral</td>\n",
       "    </tr>\n",
       "    <tr>\n",
       "      <th>16</th>\n",
       "      <td>372993152</td>\n",
       "      <td>legend</td>\n",
       "      <td>None</td>\n",
       "      <td>[anniemacmanus]</td>\n",
       "      <td>singing</td>\n",
       "      <td>neutral</td>\n",
       "    </tr>\n",
       "    <tr>\n",
       "      <th>17</th>\n",
       "      <td>372993152</td>\n",
       "      <td>None</td>\n",
       "      <td>None</td>\n",
       "      <td>[yebbasmith, anniemacmanus]</td>\n",
       "      <td>None</td>\n",
       "      <td>neutral</td>\n",
       "    </tr>\n",
       "    <tr>\n",
       "      <th>18</th>\n",
       "      <td>105241852</td>\n",
       "      <td>vient de publier une photo a quelquepart</td>\n",
       "      <td>None</td>\n",
       "      <td>None</td>\n",
       "      <td>fun</td>\n",
       "      <td>neutral</td>\n",
       "    </tr>\n",
       "    <tr>\n",
       "      <th>19</th>\n",
       "      <td>2357913366</td>\n",
       "      <td>he was my lover’s accomplice</td>\n",
       "      <td>None</td>\n",
       "      <td>[AzmiAnees3]</td>\n",
       "      <td>nature</td>\n",
       "      <td>neutral</td>\n",
       "    </tr>\n",
       "    <tr>\n",
       "      <th>20</th>\n",
       "      <td>717025418</td>\n",
       "      <td>le gardien lui parle non</td>\n",
       "      <td>None</td>\n",
       "      <td>None</td>\n",
       "      <td>travel</td>\n",
       "      <td>neutral</td>\n",
       "    </tr>\n",
       "  </tbody>\n",
       "</table>\n",
       "</div>"
      ],
      "text/plain": [
       "              author_id                                               text  \\\n",
       "1   1339914264522461187  goumin des elephants joueurs la meme fatigue meme   \n",
       "2   1339914264522461187  mes tontons vous avez fait votre part jo proch...   \n",
       "3   1339914264522461187  ah oui le sommeil la sera complique est elimin...   \n",
       "4   1339914264522461187  juillet journee internationale de la femme afr...   \n",
       "5             717025418                                        le pedigree   \n",
       "6    992904738516717570  vous avez tt a fait raison le silence incompre...   \n",
       "7    992904738516717570  la grande muette continue et continuera de le ...   \n",
       "8             736523371                                          under wsh   \n",
       "9            1471684208        les bains d'apollon a château de versailles   \n",
       "10   992904738516717570  le rdv aujourd'hui aura tenu ses promesses pou...   \n",
       "11           3169236915                    il est temps de laisser mijoter   \n",
       "12   992904738516717570      un mouton c'est bien plus intelligent que toi   \n",
       "13             16267684  i'm at gardens of versailles in versailles ile...   \n",
       "14             60117154                                      jungle cruise   \n",
       "15           3169236915                                               None   \n",
       "16            372993152                                             legend   \n",
       "17            372993152                                               None   \n",
       "18            105241852           vient de publier une photo a quelquepart   \n",
       "19           2357913366                       he was my lover’s accomplice   \n",
       "20            717025418                           le gardien lui parle non   \n",
       "\n",
       "                            hashtags  \\\n",
       "1                       [twitter225]   \n",
       "2      [SupportriceMazo, domie, CIV]   \n",
       "3                              [CIV]   \n",
       "4                             [jifa]   \n",
       "5                               None   \n",
       "6                               None   \n",
       "7                               None   \n",
       "8                               None   \n",
       "9   [versailles, nocturne, appollon]   \n",
       "10                              None   \n",
       "11                              None   \n",
       "12                              None   \n",
       "13                              None   \n",
       "14                              None   \n",
       "15                              None   \n",
       "16                              None   \n",
       "17                              None   \n",
       "18                              None   \n",
       "19                              None   \n",
       "20                              None   \n",
       "\n",
       "                                mentioned_users       topics  feelings  \n",
       "1                                          None       nature   neutral  \n",
       "2                   [ericbailly24, maxigr04del]       travel   neutral  \n",
       "3                                          None         love   neutral  \n",
       "4                                          None          fun   neutral  \n",
       "5                                          None      politic   neutral  \n",
       "6   [isabelle170516, leonna_julie, Steiner2502]        sport  positive  \n",
       "7                     [LynLyna12, leonna_julie]      politic   neutral  \n",
       "8                                          None  environment   neutral  \n",
       "9                                          None         love   neutral  \n",
       "10                               [leonna_julie]      history   neutral  \n",
       "11       [miliemelo82, kilianbridoux, LeMeneec]       nature   neutral  \n",
       "12                [Polo82810715, lrestistant73]          fun  positive  \n",
       "13                                         None      history   neutral  \n",
       "14                                         None      culture   neutral  \n",
       "15                                 [Pauluskupa]         None   neutral  \n",
       "16                              [anniemacmanus]      singing   neutral  \n",
       "17                  [yebbasmith, anniemacmanus]         None   neutral  \n",
       "18                                         None          fun   neutral  \n",
       "19                                 [AzmiAnees3]       nature   neutral  \n",
       "20                                         None       travel   neutral  "
      ]
     },
     "execution_count": 42,
     "metadata": {},
     "output_type": "execute_result"
    }
   ],
   "source": [
    "liste_tweet = openFile(\"zone_atterrissage.json\")\n",
    "zone_entrepot_tweet = zoneEntrepot(liste_tweet)\n",
    "zone_entrepot_tweet"
   ]
  },
  {
   "cell_type": "code",
   "execution_count": 6,
   "metadata": {},
   "outputs": [],
   "source": [
    "# zoneEntrepot version Cam\n",
    "\n",
    "def ZoneEntrepot(list):\n",
    "    '''Fonction qui prend en entrée la liste des dictionnaires correspondant\n",
    "    aux tweets issus du fichier zone_atterrissage et qui créer un DataFrame\n",
    "    contenant uniquement les informations qui nous intéressent'''\n",
    "\n",
    "    # Création d'un DataFrame (chaque ligne va correspondre à un tweet)\n",
    "    zone_entrepot = pd.DataFrame(columns = ['author_id', 'text', 'hashtags', 'mentioned_users', 'topics', 'feelings'])\n",
    "\n",
    "    for k in range(len(list)-1):        # on travaille sur un tweet à la fois\n",
    "        # Création d'une liste qui va contenir toutes les informations utiles de ce tweet\n",
    "        tweet = []\n",
    "        # Ajout à cette liste des informations récupérées de la zone d'atterissage\n",
    "        tweet.append(list[k].get(\"author_id\"))              # auteur du tweet    \n",
    "        tweet.append(list[k].get(\"text\"))                   # texte du tweet\n",
    "        tweet.append(listHashtags(list[k]))                 # liste des hashtags\n",
    "        tweet.append(listMentionedUsers(list[k]))           # liste des utilisateurs mentionnés\n",
    "        tweet.append(topic(list[k]))                        # topic\n",
    "        tweet.append(feeling(list[k]))                      # sentiment\n",
    "        \n",
    "        # Ajout de la ligne correspondant à ce tweet à notre DataFrame\n",
    "        zone_entrepot.loc[k+1] = tweet\n",
    "\n",
    "    return zone_entrepot    "
   ]
  },
  {
   "attachments": {},
   "cell_type": "markdown",
   "metadata": {},
   "source": [
    "### II - Analyse des données\n",
    "\n",
    "Maintenant que nos tweets ont été nettoyés et que nous avons un DataFrame contenant uniquement les informations qui nous intéressent, nous allons pouvoir analyser et effectuer des statistiques sur nos tweets.\n",
    "\n",
    "Tout d'abord, nous cherchons à obtenir les utilisateurs publiant le plus de tweets, les hashtags ou les mentions les plus utilisés, ou bien les topics les plus répandus. Les fonctions suivantes vont permettre à l'utilisateur de connaître le \"Top k\" parmis ces informations, où k est un nombre choisi par ce dernier.\n",
    "\n",
    "Les deux fonctions suivantes seront utilisées pour obtenir les tops k :"
   ]
  },
  {
   "cell_type": "code",
   "execution_count": 69,
   "metadata": {},
   "outputs": [],
   "source": [
    "def listColumn(df, column:str):\n",
    "    ''' Fonction qui renvoie les éléments d'une colonne d'un DataFrame sous forme d'une liste'''\n",
    "\n",
    "    type_elem = type(df[column][1])                     # on stocke le type des éléments de la colonne dans une variable\n",
    "\n",
    "    if type_elem == int or type_elem == str:            # si la colonne contient des entiers ou une chaîne de caractères\n",
    "        return list(df[column])\n",
    "    elif type_elem == list:                             # si la colonne contient des listes (une liste de hashatgs\n",
    "                                                        # ou d'utilisateurs mentionnés par exemple)\n",
    "        l_lists = list(df[column])\n",
    "        l_elem = []\n",
    "        for i in l_lists:\n",
    "            if i != None:                               # on ne s'occupe des éléments None\n",
    "                for j in i:\n",
    "                    l_elem.append(j)\n",
    "        return l_elem"
   ]
  },
  {
   "cell_type": "code",
   "execution_count": 70,
   "metadata": {},
   "outputs": [],
   "source": [
    "def nbOccurencesIntoDict(list_column):\n",
    "    ''' Fonction qui crée un dictionnaire dans lequel chaque clé correspond à un utilisateur\n",
    "    ou un hashtag etc, et chaque valeur correspond au nombre d'occurrences de cet élément dans la liste'''\n",
    "\n",
    "    dic = {}\n",
    "\n",
    "    for elem in list_column:                # on parcourt la liste de tous les éléments d'une colonne\n",
    "        # Si on a déjà rencontré cet élément, on incrémente son nombre d'occurences de 1\n",
    "        if elem in dic:                     \n",
    "            dic[elem] += 1\n",
    "        # Si on ne l'a jamais rencontré encore, on ajoute une clé               \n",
    "        else:\n",
    "            dic[elem] = 1\n",
    "\n",
    "    return dic"
   ]
  },
  {
   "cell_type": "code",
   "execution_count": 72,
   "metadata": {},
   "outputs": [
    {
     "ename": "TypeError",
     "evalue": "'NoneType' object is not iterable",
     "output_type": "error",
     "traceback": [
      "\u001b[1;31m---------------------------------------------------------------------------\u001b[0m",
      "\u001b[1;31mTypeError\u001b[0m                                 Traceback (most recent call last)",
      "\u001b[1;32mc:\\L2 UVSQ 2022-2023\\IN 304\\TD\\ProjetIN304\\Projet.ipynb Cellule 37\u001b[0m in \u001b[0;36m<module>\u001b[1;34m\u001b[0m\n\u001b[1;32m----> <a href='vscode-notebook-cell:/c%3A/L2%20UVSQ%202022-2023/IN%20304/TD/ProjetIN304/Projet.ipynb#Y124sZmlsZQ%3D%3D?line=0'>1</a>\u001b[0m \u001b[39mprint\u001b[39m(nbOccurencesIntoDict(listColumn(zone_entrepot_tweet, \u001b[39m'\u001b[39;49m\u001b[39mmentioned_users\u001b[39;49m\u001b[39m'\u001b[39;49m)))\n",
      "\u001b[1;32mc:\\L2 UVSQ 2022-2023\\IN 304\\TD\\ProjetIN304\\Projet.ipynb Cellule 37\u001b[0m in \u001b[0;36mnbOccurencesIntoDict\u001b[1;34m(list_column)\u001b[0m\n\u001b[0;32m      <a href='vscode-notebook-cell:/c%3A/L2%20UVSQ%202022-2023/IN%20304/TD/ProjetIN304/Projet.ipynb#Y124sZmlsZQ%3D%3D?line=1'>2</a>\u001b[0m \u001b[39m''' Fonction qui crée un dictionnaire dans lequel chaque clé correspond à un utilisateur\u001b[39;00m\n\u001b[0;32m      <a href='vscode-notebook-cell:/c%3A/L2%20UVSQ%202022-2023/IN%20304/TD/ProjetIN304/Projet.ipynb#Y124sZmlsZQ%3D%3D?line=2'>3</a>\u001b[0m \u001b[39mou un hashtag etc, et chaque valeur correspond au nombre d'occurrences de cet élément dans la liste'''\u001b[39;00m\n\u001b[0;32m      <a href='vscode-notebook-cell:/c%3A/L2%20UVSQ%202022-2023/IN%20304/TD/ProjetIN304/Projet.ipynb#Y124sZmlsZQ%3D%3D?line=4'>5</a>\u001b[0m dic \u001b[39m=\u001b[39m {}\n\u001b[1;32m----> <a href='vscode-notebook-cell:/c%3A/L2%20UVSQ%202022-2023/IN%20304/TD/ProjetIN304/Projet.ipynb#Y124sZmlsZQ%3D%3D?line=6'>7</a>\u001b[0m \u001b[39mfor\u001b[39;00m elem \u001b[39min\u001b[39;00m list_column:                \u001b[39m# on parcourt la liste de tous les éléments d'une colonne\u001b[39;00m\n\u001b[0;32m      <a href='vscode-notebook-cell:/c%3A/L2%20UVSQ%202022-2023/IN%20304/TD/ProjetIN304/Projet.ipynb#Y124sZmlsZQ%3D%3D?line=7'>8</a>\u001b[0m     \u001b[39m# Si on a déjà rencontré cet élément, on incrémente son nombre d'occurences de 1\u001b[39;00m\n\u001b[0;32m      <a href='vscode-notebook-cell:/c%3A/L2%20UVSQ%202022-2023/IN%20304/TD/ProjetIN304/Projet.ipynb#Y124sZmlsZQ%3D%3D?line=8'>9</a>\u001b[0m     \u001b[39mif\u001b[39;00m elem \u001b[39min\u001b[39;00m dic:                     \n\u001b[0;32m     <a href='vscode-notebook-cell:/c%3A/L2%20UVSQ%202022-2023/IN%20304/TD/ProjetIN304/Projet.ipynb#Y124sZmlsZQ%3D%3D?line=9'>10</a>\u001b[0m         dic[elem] \u001b[39m+\u001b[39m\u001b[39m=\u001b[39m \u001b[39m1\u001b[39m\n",
      "\u001b[1;31mTypeError\u001b[0m: 'NoneType' object is not iterable"
     ]
    }
   ],
   "source": [
    "print(nbOccurencesIntoDict(listColumn(zone_entrepot_tweet, 'mentioned_users')))"
   ]
  },
  {
   "attachments": {},
   "cell_type": "markdown",
   "metadata": {},
   "source": [
    "Les quatres fonctions suivantes permettent de trier les hashtags, les utilisateurs, les utilisateurs mentionnés ou bien les topics, que l'on retrouve le plus de fois dans la colonne du DataFrame correspondante, à celui qu'on retrouve le moins de fois.\n",
    "\n",
    "1. Pour les hashtags"
   ]
  },
  {
   "cell_type": "code",
   "execution_count": 24,
   "metadata": {},
   "outputs": [],
   "source": [
    "def topKHashtags(df, k):\n",
    "    ''' Fonction renvoyant les k hashtags les plus utilisés'''\n",
    "\n",
    "    # On créer un dictionnaire contenant comme clés les différents hashtags\n",
    "    # et comme valeur le nombre de fois que chaque hashtag a été utilisé\n",
    "    dic_occurences = nbOccurencesIntoDict(listColumn(df, 'hashtags'))\n",
    "\n",
    "    # On trie le dictionnaire par ordre croissant des valeurs et on le transforme\n",
    "    # en liste pour renvoyer les k premiers hashtags les plus utilisés\n",
    "    return list(sorted(dic_occurences, key=dic_occurences.get, reverse=True))[:k]"
   ]
  },
  {
   "cell_type": "code",
   "execution_count": 25,
   "metadata": {},
   "outputs": [],
   "source": [
    "def sortHashtags(df):\n",
    "    ''' Fonction renvoyant une liste des hashtags triés en fonction\n",
    "    du nombre de fois qu'ils ont été utilisés'''\n",
    "\n",
    "    # On créer un dictionnaire contenant comme clés les différents hashtags\n",
    "    # et comme valeur le nombre de fois que chaque hashtag a été utilisé\n",
    "    dic_occurences = nbOccurencesIntoDict(listColumn(df, 'hashtags'))\n",
    "\n",
    "    # On trie le dictionnaire par ordre croissant des valeurs et on le transforme en liste\n",
    "    l = list(sorted(dic_occurences, key=dic_occurences.get, reverse=True))\n",
    "\n",
    "    return l"
   ]
  },
  {
   "attachments": {},
   "cell_type": "markdown",
   "metadata": {},
   "source": [
    "2. Pour les utilisateurs"
   ]
  },
  {
   "cell_type": "code",
   "execution_count": 28,
   "metadata": {},
   "outputs": [],
   "source": [
    "def topKUsers(df, k):\n",
    "    ''' Fonction renvoyant les k utilisateurs ayant publié le plus de tweets'''\n",
    "\n",
    "    # On créer un dictionnaire contenant comme clés les différents utilisateurs et\n",
    "    # comme valeur le nombre de tweets qu'ils ont publié\n",
    "    dic_occurences = nbOccurencesIntoDict(listColumn(df, \"author_id\"))\n",
    "\n",
    "    # On renvoie une liste des k utilisateurs ayant publié le plus de tweets\n",
    "    return list(sorted(dic_occurences, key=dic_occurences.get, reverse=True))[:k]"
   ]
  },
  {
   "cell_type": "code",
   "execution_count": 75,
   "metadata": {},
   "outputs": [],
   "source": [
    "def sortUsers(df):\n",
    "    ''' Fonction renvoyant une liste des utilisateurs triés en fonction\n",
    "    du nombre de fois qu'ils ont publié un tweet'''\n",
    "\n",
    "    # On créer un dictionnaire contenant comme clés les différents utilisateurs et\n",
    "    # comme valeur le nombre de tweets qu'ils ont publié\n",
    "    dic_occurences = nbOccurencesIntoDict(listColumn(df, 'author_id'))\n",
    "\n",
    "    # On trie le dictionnaire par ordre croissant des valeurs et on le transforme en liste\n",
    "    l = list(sorted(dic_occurences, key=dic_occurences.get, reverse=True))\n",
    "\n",
    "    return l"
   ]
  },
  {
   "attachments": {},
   "cell_type": "markdown",
   "metadata": {},
   "source": [
    "3. Pour les utilisateurs mentionés"
   ]
  },
  {
   "cell_type": "code",
   "execution_count": 30,
   "metadata": {},
   "outputs": [],
   "source": [
    "def topKMentionedUsers(df, k):\n",
    "    ''' Fonction renvoyant les k utilisateurs les plus mentionnés'''\n",
    "\n",
    "    # On créer un dictionnaire contenant comme clés les différents utilisateurs\n",
    "    # mentionnés et comme valeur le nombre de fois qu'ils ont été mentionés\n",
    "    dic_occurences = nbOccurencesIntoDict(listColumn(df, \"mentioned_users\"))\n",
    "\n",
    "    # On renvoie une liste des k utilisateurs mentionés le plus de fois\n",
    "    return list(sorted(dic_occurences, key=dic_occurences.get, reverse=True))[:k]    "
   ]
  },
  {
   "cell_type": "code",
   "execution_count": 27,
   "metadata": {},
   "outputs": [],
   "source": [
    "def sortMentionedUsers(df):\n",
    "    ''' Fonction renvoyant une liste des utilisateurs mentionnés\n",
    "    triés en fonction du nombre de mentions'''\n",
    "\n",
    "    # On créer un dictionnaire contenant comme clés les différents utilisateurs\n",
    "    # mentionnés et comme valeur le nombre de fois qu'ils ont été mentionés\n",
    "    dic_occurences = nbOccurencesIntoDict(listColumn(df, 'mentioned_users'))\n",
    "\n",
    "    # On trie le dictionnaire par ordre croissant des valeurs et on le transforme en liste\n",
    "    l = list(sorted(dic_occurences, key=dic_occurences.get, reverse=True))\n",
    "\n",
    "    return l"
   ]
  },
  {
   "attachments": {},
   "cell_type": "markdown",
   "metadata": {},
   "source": [
    "4. Pour les topics"
   ]
  },
  {
   "cell_type": "code",
   "execution_count": 29,
   "metadata": {},
   "outputs": [],
   "source": [
    "# il faut gérer le cas quand les tweets n'ont pas de topic (None) -> dans liste colonne ? à discuter\n",
    "\n",
    "\n",
    "\n",
    "\n",
    "\n",
    "def topKTopics(df, k):\n",
    "    ''' Fonction renvoyant les k topics les plus répandus'''\n",
    "\n",
    "    # On créer un dictionnaire contenant comme clés les différents\n",
    "    # topics et comme valeur le nombre de tweets sur ce topic\n",
    "    dic_occurences = nbOccurencesIntoDict(listColumn(df, \"topics\"))\n",
    "\n",
    "    # On renvoie une liste des k topics les plus répandus\n",
    "    l_sorted = list(sorted(dic_occurences, key=dic_occurences.get, reverse=True))[:k]\n",
    "    return "
   ]
  },
  {
   "cell_type": "code",
   "execution_count": 28,
   "metadata": {},
   "outputs": [],
   "source": [
    "def sortTopics(df):\n",
    "    ''' Fonction renvoyant une liste des topics triés en fonction\n",
    "    du nombre de fois qu'ils ont été utilisés'''\n",
    "\n",
    "    # On créer un dictionnaire contenant comme clés les différents\n",
    "    # topics et comme valeur le nombre de tweets sur ce topic\n",
    "    dic_occurences = nbOccurencesIntoDict(listColumn(df, 'topics'))\n",
    "\n",
    "    if \"None\"\n",
    "\n",
    "    # On trie le dictionnaire par ordre croissant des valeurs et on le transforme en liste\n",
    "    l = list(sorted(dic_occurences, key=dic_occurences.get, reverse=True))\n",
    "\n",
    "    return l"
   ]
  },
  {
   "attachments": {},
   "cell_type": "markdown",
   "metadata": {},
   "source": [
    "Ces quatre fonctions sont utilisées dans la fonction qui suit, permettant à l'utilisateur de connaitre le Top k qu'il souhaite. "
   ]
  },
  {
   "cell_type": "code",
   "execution_count": 79,
   "metadata": {},
   "outputs": [],
   "source": [
    "def topK(df):\n",
    "    ''' Fonction qui demande à l'utilisateur le Top k qu'il souhaite connaitre,\n",
    "    ainsi que ce nombre k, puis qui renvoie ce classement demandé'''\n",
    "\n",
    "    possible_top = ('H', 'U', 'UM', 'T')\n",
    "    top = 0\n",
    "    k = -1\n",
    "\n",
    "    # On demande à l'utilisateur le Top qu'il souhaite connaitre\n",
    "    while top not in possible_top:\n",
    "        top = str(input(\"Quel Top voulez-vous connaitre ? hashtags (tapez H), utilisateurs (tapez U), utilisateurs mentionnés (tapez UM) ou bien topics (tapez T) ?\"))\n",
    "    \n",
    "    # Utilisation des fonctions de tri par ordre croissant des colonnes\n",
    "    # du DataFrame en fonction du choix de l'utilisateur\n",
    "    if top == 'H':\n",
    "        l = sortHashtags(df)\n",
    "    elif top == 'U':\n",
    "        l = sortUsers(df)\n",
    "    elif top == 'UM':\n",
    "        l = sortMentionedUsers(df)\n",
    "    else:\n",
    "        l = sortTopics(df)\n",
    "\n",
    "    # Nombre maximum que l'utilisateur pourra entrer pour la valeur de k\n",
    "    k_max = len(l)\n",
    "    \n",
    "    # Choix de la valeur k par l'utilisateur\n",
    "    while (k < 0) and (k > k_max):\n",
    "        k = int(input(\"Veuillez saisir k : \"))\n",
    "    \n",
    "    return l[:k]"
   ]
  },
  {
   "attachments": {},
   "cell_type": "markdown",
   "metadata": {},
   "source": [
    "Pour tester cette fonction et connaître le top k de votre choix, vous pouvez executer la cellule suivante et vous laisser guider par les instructions :"
   ]
  },
  {
   "cell_type": "code",
   "execution_count": 80,
   "metadata": {},
   "outputs": [
    {
     "name": "stdout",
     "output_type": "stream",
     "text": [
      "['1339914264522461187', '992904738516717570', '717025418', '3169236915', '372993152', '736523371', '1471684208', '16267684', '60117154', '105241852']\n"
     ]
    }
   ],
   "source": [
    "print(topK(zone_entrepot_tweet))"
   ]
  },
  {
   "attachments": {},
   "cell_type": "markdown",
   "metadata": {},
   "source": [
    "Maintenant, nous cherchons à analyser le nombre de publications par utilisateur, par hashtag ou bien par topic. Pour cela, nous commençons par trier nos éléments en fonction du nombre de publications dans lesquelles ils apparaissent. Ensuite, pour visualiser nos résultats, nous utilisons la bibliothèque Matplotlib, afin d'obtenir des diagrammes.\n",
    "\n",
    "1. Nombre de publications par utilisateur"
   ]
  },
  {
   "cell_type": "code",
   "execution_count": 1,
   "metadata": {},
   "outputs": [],
   "source": [
    "def nbPublicationsPerUser(df):\n",
    "    ''' Fonction qui affiche un diagramme correspondant au nombre de tweets\n",
    "    publiés par utilisateur'''\n",
    "\n",
    "    # séparer le dictionnaire avec le nb d'occurences en une liste des utilisateurs\n",
    "    # et une liste du nb de publications (appliquer la méthode list au dictionnaire)\n",
    "    #list_nb_publications =\n",
    "    #list_users =\n",
    "    #x=np.arrange(len(list_nb_publications))\n",
    "    \n",
    "    #plt.bar(x, list_nb_publications)\n",
    "\n",
    "    #plt.xticks(x, list_users)\n",
    "\n",
    "    #plt.xlabel(\"Utilisateurs\")\n",
    "    #plt.ylabel(\"Nombre de publications\")\n",
    "    #plt.title(\"Diagramme du nombre de publications de chaque utilisateur\")\n",
    "\n",
    "    #plt.savefig(\"nb_publications_par_utilisateur.png\", bbox_inches=\"tight\", dpi=200)"
   ]
  },
  {
   "attachments": {},
   "cell_type": "markdown",
   "metadata": {},
   "source": [
    "2. Nombre de publications par hashtag"
   ]
  },
  {
   "cell_type": "code",
   "execution_count": 2,
   "metadata": {},
   "outputs": [],
   "source": [
    "def nbPublicationsPerHashtag(df):\n",
    "    ''' Fonction qui affiche un diagramme correspondant au nombre de tweets pour chaque hashtag'''\n",
    "\n",
    "    # séparer le dictionnaire avec le nb d'occurences en une liste des hashtags\n",
    "    # et une liste du nb de publications (appliquer la méthode list au dictionnaire)\n",
    "    #list_nb_publications =\n",
    "    #list_hashtags =\n",
    "    #x=np.arrange(len(list_nb_publications))\n",
    "    \n",
    "    #plt.bar(x, list_nb_publications)\n",
    "\n",
    "    #plt.xticks(x, list_hashtags)\n",
    "\n",
    "    #plt.xlabel(\"Hashtags\")\n",
    "    #plt.ylabel(\"Nombre de publications\")\n",
    "    #plt.title(\"Diagramme du nombre de publications par hashtag\")\n",
    "\n",
    "    #plt.savefig(\"nb_publications_par_hashtag.png\", bbox_inches=\"tight\", dpi=200)"
   ]
  },
  {
   "attachments": {},
   "cell_type": "markdown",
   "metadata": {},
   "source": [
    "3. Nombre de publications par topic"
   ]
  },
  {
   "cell_type": "code",
   "execution_count": 3,
   "metadata": {},
   "outputs": [],
   "source": [
    "def nbPublicationsPerTopic(df):\n",
    "    ''' Fonction qui affiche un diagramme correspondant au nombre de tweets par topic'''\n",
    "\n",
    "    # séparer le dictionnaire avec le nb d'occurences en une liste des topics\n",
    "    # et une liste du nb de publications (appliquer la méthode list au dictionnaire)\n",
    "    #list_nb_publications =\n",
    "    #list_topics =\n",
    "    #x=np.arrange(len(list_nb_publications))\n",
    "    \n",
    "    #plt.bar(x, list_nb_publications)\n",
    "\n",
    "    #plt.xticks(x, list_topics)\n",
    "\n",
    "    #plt.xlabel(\"Topics\")\n",
    "    #plt.ylabel(\"Nombre de publications\")\n",
    "    #plt.title(\"Diagramme du nombre de publications par topic\")\n",
    "\n",
    "    #plt.savefig(\"nb_publications_par_topic.png\", bbox_inches=\"tight\", dpi=200)"
   ]
  },
  {
   "cell_type": "code",
   "execution_count": 3,
   "metadata": {},
   "outputs": [],
   "source": [
    "### On peut faire des diagrammes sans montrer les utilisateurs ou hashtag ou topic les moins repandus\n",
    "### en précisant que c'est parce que ça sert à rien, mais laisser la possibilité de tous les montrer"
   ]
  },
  {
   "attachments": {},
   "cell_type": "markdown",
   "metadata": {},
   "source": [
    "SUITE 3"
   ]
  },
  {
   "cell_type": "code",
   "execution_count": 1,
   "metadata": {},
   "outputs": [],
   "source": [
    "#test"
   ]
  },
  {
   "cell_type": "code",
   "execution_count": 1,
   "metadata": {},
   "outputs": [],
   "source": [
    "# ca marche ?"
   ]
  },
  {
   "cell_type": "code",
   "execution_count": null,
   "metadata": {},
   "outputs": [],
   "source": [
    "#oui "
   ]
  }
 ],
 "metadata": {
  "kernelspec": {
   "display_name": "base",
   "language": "python",
   "name": "python3"
  },
  "language_info": {
   "codemirror_mode": {
    "name": "ipython",
    "version": 3
   },
   "file_extension": ".py",
   "mimetype": "text/x-python",
   "name": "python",
   "nbconvert_exporter": "python",
   "pygments_lexer": "ipython3",
   "version": "3.9.10"
  },
  "orig_nbformat": 4,
  "vscode": {
   "interpreter": {
    "hash": "cb2b1035614daac4e449ec9b6a86cdf631e15e13424c7bda9ee941db7cd9c5ff"
   }
  }
 },
 "nbformat": 4,
 "nbformat_minor": 2
}
