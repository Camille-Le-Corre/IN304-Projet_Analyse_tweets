{
 "cells": [
  {
   "attachments": {},
   "cell_type": "markdown",
   "metadata": {},
   "source": [
    "### **TD 11 et 12 - Collecte, Traitement, et Analyse de données de réseaux sociaux**\n",
    "\n",
    "*LEFEVRE Laura et LE CORRE Camille - LDD BI*"
   ]
  },
  {
   "cell_type": "code",
   "execution_count": 27,
   "metadata": {},
   "outputs": [],
   "source": [
    "#Importation des modules\n",
    "import json\n",
    "import re\n",
    "import pandas as pd\n",
    "from textblob import TextBlob\n",
    "#import textblob_fr\n",
    "\n",
    "#Module a installer\n",
    "    #!pip install textblob\n",
    "    #!pip install textblob-fr"
   ]
  },
  {
   "cell_type": "code",
   "execution_count": 9,
   "metadata": {},
   "outputs": [],
   "source": [
    "def openFile(fileName):\n",
    "    with open(fileName, encoding='utf8') as json_data:\n",
    "        data_dict = json.load(json_data)\n",
    "        return data_dict"
   ]
  },
  {
   "cell_type": "code",
   "execution_count": 15,
   "metadata": {},
   "outputs": [
    {
     "data": {
      "text/plain": [
       "{'_id': '1421599163561742339',\n",
       " 'public_metrics': {'retweet_count': 0,\n",
       "  'reply_count': 1,\n",
       "  'like_count': 1,\n",
       "  'quote_count': 0},\n",
       " 'id': '1421599163561742339',\n",
       " 'conversation_id': '1421599163561742339',\n",
       " 'context_annotations': [{'domain': {'id': '6', 'name': 'Sports Event'},\n",
       "   'entity': {'id': '1103026158382141440',\n",
       "    'name': 'Tokyo 2020 Summer Olympics',\n",
       "    'description': 'Tokyo 2020 Summer Olympics '}}],\n",
       " 'author_id': '1339914264522461187',\n",
       " 'text': 'Ah oui le sommeil là sera compliqué. #CIV  est éliminé des JO , Ahi on peut faire ça ?',\n",
       " 'geo': {'place_id': '00b8943291443c8c'},\n",
       " 'lang': 'fr',\n",
       " 'created_at': '2021-07-31T22:30:27.000Z',\n",
       " 'entities': {'hashtags': [{'start': 37, 'end': 41, 'tag': 'CIV'}]}}"
      ]
     },
     "execution_count": 15,
     "metadata": {},
     "output_type": "execute_result"
    }
   ],
   "source": [
    "dic = openFile(\"versailles_tweets_100.json\")\n",
    "dic[2]\n"
   ]
  },
  {
   "cell_type": "code",
   "execution_count": 159,
   "metadata": {},
   "outputs": [
    {
     "data": {
      "text/plain": [
       "'Goumin des éléphants joueurs la même fatigue même 😫 #twitter225'"
      ]
     },
     "execution_count": 159,
     "metadata": {},
     "output_type": "execute_result"
    }
   ],
   "source": [
    "dic[0]['text']"
   ]
  },
  {
   "cell_type": "code",
   "execution_count": 10,
   "metadata": {},
   "outputs": [],
   "source": [
    "def remove_emojis(data):\n",
    "    emoj = re.compile(\"[\"\n",
    "        u\"\\U0001F600-\\U0001F64F\"  # emoticons\n",
    "        u\"\\U0001F300-\\U0001F5FF\"  # symbols & pictographs\n",
    "        u\"\\U0001F680-\\U0001F6FF\"  # transport & map symbols\n",
    "        u\"\\U0001F1E0-\\U0001F1FF\"  # flags (iOS)\n",
    "        u\"\\U00002500-\\U00002BEF\"  # chinese char\n",
    "        u\"\\U00002702-\\U000027B0\"\n",
    "        u\"\\U00002702-\\U000027B0\"\n",
    "        u\"\\U000024C2-\\U0001F251\"\n",
    "        u\"\\U0001f926-\\U0001f937\"\n",
    "        u\"\\U00010000-\\U0010ffff\"\n",
    "        u\"\\u2640-\\u2642\" \n",
    "        u\"\\u2600-\\u2B55\"\n",
    "        u\"\\u200d\"\n",
    "        u\"\\u23cf\"\n",
    "        u\"\\u23e9\"\n",
    "        u\"\\u231a\"\n",
    "        u\"\\ufe0f\"  # dingbats\n",
    "        u\"\\u3030\"\n",
    "                      \"]+\", re.UNICODE)\n",
    "    return re.sub(emoj, '', data)"
   ]
  },
  {
   "cell_type": "code",
   "execution_count": 11,
   "metadata": {},
   "outputs": [],
   "source": [
    "def CleanText(text):\n",
    "    text = text.lower()\n",
    "    text = re.sub(r\"[A-Za-z\\.]*[0-9]+[A-Za-z%°\\.]*\", \"\", text)\n",
    "    text = re.sub(r\"[\\,\\!\\?\\%\\(\\)\\/\\\"\\&\\+\\#\\$\\£\\%\\:\\@\\-]\", \"\", text)\n",
    "    text = re.sub(r\"[\\é\\è\\ê]\", \"e\", text)\n",
    "    text = re.sub(r\"[\\ù]\", \"u\", text)\n",
    "    text = re.sub(r\"[\\à]\", \"a\", text)\n",
    "    text = re.sub(r\"[\\î\\ï]\", \"i\", text)\n",
    "    text = remove_emojis(text)\n",
    "    text = re.sub(r\"( )+\", \" \", text)\n",
    "    text = re.sub(r\"( )*$\", \"\", text)\n",
    "    \n",
    "    return text"
   ]
  },
  {
   "cell_type": "code",
   "execution_count": 164,
   "metadata": {},
   "outputs": [
    {
     "data": {
      "text/plain": [
       "'goumin des elephants joueurs la meme fatigue meme'"
      ]
     },
     "execution_count": 164,
     "metadata": {},
     "output_type": "execute_result"
    }
   ],
   "source": [
    "CleanText(dic[0]['text'])"
   ]
  },
  {
   "cell_type": "code",
   "execution_count": 19,
   "metadata": {},
   "outputs": [],
   "source": [
    "def ZoneAtterrissage(tweet):\n",
    "    tweet_clean = CleanText(tweet['text'])\n",
    "    tweet['text'] = tweet_clean\n",
    "    with open(\"zone_atterrissage.json\", \"w\") as filout:\n",
    "        json.dump(tweet, filout)\n",
    "        #json.dump(tweet + '\\n', filout)\n"
   ]
  },
  {
   "cell_type": "code",
   "execution_count": 20,
   "metadata": {},
   "outputs": [],
   "source": [
    "def traitement(liste_tweet):\n",
    "    \n",
    "    for elt in liste_tweet:\n",
    "        ZoneAtterrissage(elt)"
   ]
  },
  {
   "cell_type": "code",
   "execution_count": 21,
   "metadata": {},
   "outputs": [],
   "source": [
    "traitement(dic)"
   ]
  },
  {
   "cell_type": "code",
   "execution_count": 46,
   "metadata": {},
   "outputs": [
    {
     "data": {
      "text/plain": [
       "Sentiment(polarity=0.39166666666666666, subjectivity=0.4357142857142857)"
      ]
     },
     "execution_count": 46,
     "metadata": {},
     "output_type": "execute_result"
    }
   ],
   "source": [
    "testimonial = TextBlob(\"Textblob is amazingly simple to use. What great fun!\")\n",
    "testimonial.sentiment"
   ]
  },
  {
   "cell_type": "code",
   "execution_count": 42,
   "metadata": {},
   "outputs": [],
   "source": [
    "def ListHashtags(tweet):\n",
    "    ''' Fonction qui renvoie la liste de hashtags d'un tweet.\n",
    "    Cette fonction est utilisée dans la fonction ZoneEntrepot '''\n",
    "\n",
    "    list_hashtags = []\n",
    "\n",
    "    if \"hashtags\" in tweet[\"entities\"]:                # on vérifie qu'il y a au moins un hashtag\n",
    "        for h in range(len(tweet[\"entities\"][\"hashtags\"])):            # on parcourt la liste des hashtags\n",
    "            list_hashtags.append(tweet[\"entities\"][\"hashtags\"][h][\"tag\"])   \n",
    "\n",
    "    return list_hashtags"
   ]
  },
  {
   "cell_type": "code",
   "execution_count": 23,
   "metadata": {},
   "outputs": [],
   "source": [
    "def ListMentionedUsers(tweet):\n",
    "    ''' Fonction qui renvoie la liste des utilisateurs mentionnés dans un tweet.\n",
    "    Cette fonction est utilisée dans la fonction ZoneEntrepot '''\n",
    "\n",
    "    list_mentioned_users = []\n",
    "\n",
    "    if \"mentions\" in tweet[\"entities\"]:                # on vérifie qu'il y a au moins un utilisateur mentionné\n",
    "        for m in range(len(tweet[\"entities\"][\"mentions\"])):            # on parcourt la liste des utilisateurs mentionnés\n",
    "            list_mentioned_users.append(tweet[\"entities\"][\"mentions\"][m][\"username\"])\n",
    "\n",
    "    return list_mentioned_users"
   ]
  },
  {
   "cell_type": "code",
   "execution_count": 25,
   "metadata": {},
   "outputs": [],
   "source": [
    "def Topic(tweet):\n",
    "    ''' Fonction qui détermine le topic d'un tweet.\n",
    "    Cette fonction est utilisée dans la fonction ZoneEntrepot '''\n",
    "    pass"
   ]
  },
  {
   "cell_type": "code",
   "execution_count": 35,
   "metadata": {},
   "outputs": [],
   "source": [
    "# /!\\ il faut trouver le paramètre pour l'adapter en français ou toutes les langues\n",
    "\n",
    "def Feeling(tweet):\n",
    "    ''' Fonction qui détermine le sentiment d'un tweet (positif, négatif ou neutre).\n",
    "    Cette fonction est utilisée dans la fonction ZoneEntrepot '''\n",
    "    \n",
    "    feeling = TextBlob(str(tweet.get(\"texte\"))).sentiment.polarity\n",
    "\n",
    "    if feeling < 0:\n",
    "        return \"negative\"\n",
    "    elif feeling == 0:\n",
    "        return \"neutral\"\n",
    "    else:\n",
    "        return \"positive\""
   ]
  },
  {
   "cell_type": "code",
   "execution_count": 38,
   "metadata": {},
   "outputs": [],
   "source": [
    "def ZoneEntrepot(list):\n",
    "    '''Fonction qui prend en entrée la liste des dictionnaires correspondant\n",
    "    aux tweets issus du fichier zone_atterrissage et qui créer un DataFrame\n",
    "    contenant uniquement les informations qui nous intéressent'''\n",
    "\n",
    "    # Création d'un DataFrame (chaque ligne va correspondre à un tweet)\n",
    "    zone_entrepot = pd.DataFrame(columns = ['author_id', 'text', 'hashtags', 'mentioned_users', 'topics', 'feelings'])\n",
    "\n",
    "    for k in range(len(list)-1):        # on travaille sur un tweet à la fois\n",
    "        # Création d'une liste qui va contenir toutes les informations utiles de ce tweet\n",
    "        tweet = []\n",
    "        # Ajout à cette liste des informations récupérées de la zone d'atterissage\n",
    "        tweet.append(list[k].get(\"author_id\"))              # auteur du tweet    \n",
    "        tweet.append(list[k].get(\"text\"))                   # texte du tweet\n",
    "        tweet.append(ListHashtags(list[k]))                 # liste des hashtags\n",
    "        tweet.append(ListMentionedUsers(list[k]))           # liste des utilisateurs mentionnés\n",
    "        tweet.append(Topic(list[k]))                        # topic\n",
    "        tweet.append(Feeling(list[k]))                      # sentiment\n",
    "        \n",
    "        # Ajout de la ligne correspondant à ce tweet à notre DataFrame\n",
    "        zone_entrepot.loc[k+1] = tweet\n",
    "\n",
    "    return zone_entrepot    "
   ]
  },
  {
   "cell_type": "code",
   "execution_count": 39,
   "metadata": {},
   "outputs": [
    {
     "ename": "KeyError",
     "evalue": "'entities'",
     "output_type": "error",
     "traceback": [
      "\u001b[1;31m---------------------------------------------------------------------------\u001b[0m",
      "\u001b[1;31mKeyError\u001b[0m                                  Traceback (most recent call last)",
      "\u001b[1;32mc:\\L2 UVSQ 2022-2023\\IN 304\\TD\\ProjetIN304\\Projet.ipynb Cellule 18\u001b[0m in \u001b[0;36m<module>\u001b[1;34m\u001b[0m\n\u001b[1;32m----> <a href='vscode-notebook-cell:/c%3A/L2%20UVSQ%202022-2023/IN%20304/TD/ProjetIN304/Projet.ipynb#X31sZmlsZQ%3D%3D?line=0'>1</a>\u001b[0m df_zone_entrepot \u001b[39m=\u001b[39m ZoneEntrepot(dic)\n",
      "\u001b[1;32mc:\\L2 UVSQ 2022-2023\\IN 304\\TD\\ProjetIN304\\Projet.ipynb Cellule 18\u001b[0m in \u001b[0;36mZoneEntrepot\u001b[1;34m(list)\u001b[0m\n\u001b[0;32m     <a href='vscode-notebook-cell:/c%3A/L2%20UVSQ%202022-2023/IN%20304/TD/ProjetIN304/Projet.ipynb#X31sZmlsZQ%3D%3D?line=12'>13</a>\u001b[0m tweet\u001b[39m.\u001b[39mappend(\u001b[39mlist\u001b[39m[k]\u001b[39m.\u001b[39mget(\u001b[39m\"\u001b[39m\u001b[39mauthor_id\u001b[39m\u001b[39m\"\u001b[39m))              \u001b[39m# auteur du tweet    \u001b[39;00m\n\u001b[0;32m     <a href='vscode-notebook-cell:/c%3A/L2%20UVSQ%202022-2023/IN%20304/TD/ProjetIN304/Projet.ipynb#X31sZmlsZQ%3D%3D?line=13'>14</a>\u001b[0m tweet\u001b[39m.\u001b[39mappend(\u001b[39mlist\u001b[39m[k]\u001b[39m.\u001b[39mget(\u001b[39m\"\u001b[39m\u001b[39mtext\u001b[39m\u001b[39m\"\u001b[39m))                   \u001b[39m# texte du tweet\u001b[39;00m\n\u001b[1;32m---> <a href='vscode-notebook-cell:/c%3A/L2%20UVSQ%202022-2023/IN%20304/TD/ProjetIN304/Projet.ipynb#X31sZmlsZQ%3D%3D?line=14'>15</a>\u001b[0m tweet\u001b[39m.\u001b[39mappend(ListHashtags(\u001b[39mlist\u001b[39;49m[k]))                 \u001b[39m# liste des hashtags\u001b[39;00m\n\u001b[0;32m     <a href='vscode-notebook-cell:/c%3A/L2%20UVSQ%202022-2023/IN%20304/TD/ProjetIN304/Projet.ipynb#X31sZmlsZQ%3D%3D?line=15'>16</a>\u001b[0m tweet\u001b[39m.\u001b[39mappend(ListMentionedUsers(\u001b[39mlist\u001b[39m[k]))           \u001b[39m# liste des utilisateurs mentionnés\u001b[39;00m\n\u001b[0;32m     <a href='vscode-notebook-cell:/c%3A/L2%20UVSQ%202022-2023/IN%20304/TD/ProjetIN304/Projet.ipynb#X31sZmlsZQ%3D%3D?line=16'>17</a>\u001b[0m tweet\u001b[39m.\u001b[39mappend(Topic(\u001b[39mlist\u001b[39m[k]))                        \u001b[39m# topic\u001b[39;00m\n",
      "\u001b[1;32mc:\\L2 UVSQ 2022-2023\\IN 304\\TD\\ProjetIN304\\Projet.ipynb Cellule 18\u001b[0m in \u001b[0;36mListHashtags\u001b[1;34m(tweet)\u001b[0m\n\u001b[0;32m      <a href='vscode-notebook-cell:/c%3A/L2%20UVSQ%202022-2023/IN%20304/TD/ProjetIN304/Projet.ipynb#X31sZmlsZQ%3D%3D?line=1'>2</a>\u001b[0m \u001b[39m''' Fonction qui renvoie la liste de hashtags d'un tweet.\u001b[39;00m\n\u001b[0;32m      <a href='vscode-notebook-cell:/c%3A/L2%20UVSQ%202022-2023/IN%20304/TD/ProjetIN304/Projet.ipynb#X31sZmlsZQ%3D%3D?line=2'>3</a>\u001b[0m \u001b[39mCette fonction est utilisée dans la fonction ZoneEntrepot '''\u001b[39;00m\n\u001b[0;32m      <a href='vscode-notebook-cell:/c%3A/L2%20UVSQ%202022-2023/IN%20304/TD/ProjetIN304/Projet.ipynb#X31sZmlsZQ%3D%3D?line=4'>5</a>\u001b[0m list_hashtags \u001b[39m=\u001b[39m []\n\u001b[1;32m----> <a href='vscode-notebook-cell:/c%3A/L2%20UVSQ%202022-2023/IN%20304/TD/ProjetIN304/Projet.ipynb#X31sZmlsZQ%3D%3D?line=6'>7</a>\u001b[0m \u001b[39mif\u001b[39;00m \u001b[39m\"\u001b[39m\u001b[39mhashtags\u001b[39m\u001b[39m\"\u001b[39m \u001b[39min\u001b[39;00m tweet[\u001b[39m\"\u001b[39;49m\u001b[39mentities\u001b[39;49m\u001b[39m\"\u001b[39;49m]:                \u001b[39m# on vérifie qu'il y a au moins un hashtag\u001b[39;00m\n\u001b[0;32m      <a href='vscode-notebook-cell:/c%3A/L2%20UVSQ%202022-2023/IN%20304/TD/ProjetIN304/Projet.ipynb#X31sZmlsZQ%3D%3D?line=7'>8</a>\u001b[0m     \u001b[39mfor\u001b[39;00m h \u001b[39min\u001b[39;00m \u001b[39mrange\u001b[39m(\u001b[39mlen\u001b[39m(tweet[\u001b[39m\"\u001b[39m\u001b[39mentities\u001b[39m\u001b[39m\"\u001b[39m][\u001b[39m\"\u001b[39m\u001b[39mhashtags\u001b[39m\u001b[39m\"\u001b[39m])):            \u001b[39m# on parcourt la liste des hashtags\u001b[39;00m\n\u001b[0;32m      <a href='vscode-notebook-cell:/c%3A/L2%20UVSQ%202022-2023/IN%20304/TD/ProjetIN304/Projet.ipynb#X31sZmlsZQ%3D%3D?line=8'>9</a>\u001b[0m         list_hashtags\u001b[39m.\u001b[39mappend(tweet[\u001b[39m\"\u001b[39m\u001b[39mentities\u001b[39m\u001b[39m\"\u001b[39m][\u001b[39m\"\u001b[39m\u001b[39mhashtags\u001b[39m\u001b[39m\"\u001b[39m][h][\u001b[39m\"\u001b[39m\u001b[39mtag\u001b[39m\u001b[39m\"\u001b[39m])   \n",
      "\u001b[1;31mKeyError\u001b[0m: 'entities'"
     ]
    }
   ],
   "source": [
    "df_zone_entrepot = ZoneEntrepot(dic)"
   ]
  },
  {
   "cell_type": "code",
   "execution_count": 7,
   "metadata": {},
   "outputs": [],
   "source": [
    "def ListColumn(df, column:str):\n",
    "    ''' Fonction qui renvoie les éléments d'une colonne d'un DataFrame sous forme d'une liste'''\n",
    "\n",
    "    if df[column][1] == int:            # si la colonne contient des entiers\n",
    "        return list(df[column])\n",
    "    elif df[column][1] == list:         # si la colonne contient des listes (une liste de hashatgs\n",
    "                                        # ou d'utilisateurs mentionnés par exemple)\n",
    "        l_lists = list(df[column])\n",
    "        l_elem = []\n",
    "        for e in l_lists:\n",
    "            for ee in e:\n",
    "                l_elem.append(ee)\n",
    "        return l_elem"
   ]
  },
  {
   "cell_type": "code",
   "execution_count": 2,
   "metadata": {},
   "outputs": [],
   "source": [
    "def NbOccurencesIntoDict(l):\n",
    "    ''' Fonction qui crée un dictionnaire dans lequel chaque clé\n",
    "    correspond à un utilisateur, et chaque valeur correspond au nombre\n",
    "    d'occurrences de cet utilisateur dans la liste'''\n",
    "\n",
    "    dic = {}\n",
    "\n",
    "    for elem in l:\n",
    "        if elem in dic:\n",
    "            dic[elem] += 1\n",
    "        else:\n",
    "            dic[elem] = 1\n",
    "\n",
    "    return dic"
   ]
  },
  {
   "cell_type": "code",
   "execution_count": 3,
   "metadata": {},
   "outputs": [],
   "source": [
    "def TopKUsers(df, k):\n",
    "    ''' Fonction renvoyant les k utilisateurs ayant publié le plus de tweets'''\n",
    "\n",
    "    l_users = ListColumn(df, \"author_id\")\n",
    "    dic_occurences = NbOccurencesIntoDict(l_users)\n",
    "    #dic_occurences = NbOccurencesIntoDict(ListColumn(df, \"author_id\"))\n",
    "\n",
    "    l_sorted = list(sorted(dic_occurences, key=dic_occurences.get, reverse=True))\n",
    "\n",
    "    return l_sorted[:k]"
   ]
  }
 ],
 "metadata": {
  "kernelspec": {
   "display_name": "Python 3.9.10 ('base')",
   "language": "python",
   "name": "python3"
  },
  "language_info": {
   "codemirror_mode": {
    "name": "ipython",
    "version": 3
   },
   "file_extension": ".py",
   "mimetype": "text/x-python",
   "name": "python",
   "nbconvert_exporter": "python",
   "pygments_lexer": "ipython3",
   "version": "3.9.10"
  },
  "orig_nbformat": 4,
  "vscode": {
   "interpreter": {
    "hash": "cb2b1035614daac4e449ec9b6a86cdf631e15e13424c7bda9ee941db7cd9c5ff"
   }
  }
 },
 "nbformat": 4,
 "nbformat_minor": 2
}
