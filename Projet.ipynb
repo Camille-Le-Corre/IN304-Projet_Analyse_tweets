{
 "cells": [
  {
   "attachments": {},
   "cell_type": "markdown",
   "metadata": {},
   "source": [
    "## **TD 11 et 12 - Collecte, Traitement, et Analyse de données de réseaux sociaux**\n",
    "\n",
    "##### *LEFEVRE Laura et LE CORRE Camille - LDD BI*"
   ]
  },
  {
   "attachments": {},
   "cell_type": "markdown",
   "metadata": {},
   "source": [
    "![Alt text](Schema_InPoDa.png)"
   ]
  },
  {
   "attachments": {},
   "cell_type": "markdown",
   "metadata": {},
   "source": [
    "### I- Traitement des données\n",
    "\n",
    "Dans cette première partie, nous récupérons les données, nous les nettoyons et les organisons, pour obtenir un DataFrame contenant les données qui nous intéressent pour la suite du projet."
   ]
  },
  {
   "cell_type": "code",
   "execution_count": 1,
   "metadata": {},
   "outputs": [],
   "source": [
    "# Importation des différents modules utilisés dans notre programme\n",
    "\n",
    "import json\n",
    "import re\n",
    "import pandas as pd\n",
    "import os\n",
    "import random as rd\n",
    "from textblob import TextBlob\n",
    "import matplotlib as plt\n",
    "import matplotlib.pyplot\n",
    "import numpy as np"
   ]
  },
  {
   "attachments": {},
   "cell_type": "markdown",
   "metadata": {},
   "source": [
    "Dans un premier temps, on définit une classe qui va contenir une fonction permettant de récupérer dans une variable, la liste des dictionnaires représentant les différents tweets contenu dans le fichier json."
   ]
  },
  {
   "cell_type": "code",
   "execution_count": 14,
   "metadata": {},
   "outputs": [],
   "source": [
    "class reader :\n",
    "    '''Classe permettant la lecture de fichier contenant les tweets'''\n",
    "\n",
    "    def openFile(fileName):\n",
    "        '''Fonction qui permet de lire et de recuperer un fichier json dans une variable data_dict'''\n",
    "        \n",
    "        with open(fileName, encoding='utf8') as json_data:\n",
    "            data_dict = json.load(json_data)\n",
    "            \n",
    "            return data_dict"
   ]
  },
  {
   "attachments": {},
   "cell_type": "markdown",
   "metadata": {},
   "source": [
    "Par exemple, la commande suivante permet de récupérer dans la varible dic_tweets, la liste des tweets du fichier \"versailles_tweets_100.json\". On obtient une liste de dictionnaire et dic_tweets[0] nous permet de visualiser le premier tweet. On peut voir qu'il possède plusieurs éléments qui ne vont pas nous servir. Nous allons donc pouvoir nettoyer chacun des tweets, en gardant les informations essentielles (author_id, text, hastags...). De plus, on va pouvoir nettoyer le texte du tweet en supprimant tous les caractères spéciaux."
   ]
  },
  {
   "cell_type": "code",
   "execution_count": 16,
   "metadata": {},
   "outputs": [
    {
     "data": {
      "text/plain": [
       "{'_id': '1421616335700824064',\n",
       " 'public_metrics': {'retweet_count': 0,\n",
       "  'reply_count': 0,\n",
       "  'like_count': 1,\n",
       "  'quote_count': 0},\n",
       " 'id': '1421616335700824064',\n",
       " 'conversation_id': '1421616335700824064',\n",
       " 'author_id': '1339914264522461187',\n",
       " 'text': 'Goumin des éléphants joueurs la même fatigue même 😫 #twitter225',\n",
       " 'geo': {'place_id': '00b8943291443c8c'},\n",
       " 'lang': 'fr',\n",
       " 'created_at': '2021-07-31T23:38:41.000Z',\n",
       " 'entities': {'hashtags': [{'start': 52, 'end': 63, 'tag': 'twitter225'}]}}"
      ]
     },
     "execution_count": 16,
     "metadata": {},
     "output_type": "execute_result"
    }
   ],
   "source": [
    "dic_tweets = reader.openFile(\"versailles_tweets_100.json\")\n",
    "\n",
    "# Exemple affichage 1er tweet\n",
    "dic_tweets[0]"
   ]
  },
  {
   "attachments": {},
   "cell_type": "markdown",
   "metadata": {},
   "source": [
    "On code les fonctions permettant le nettoyage :"
   ]
  },
  {
   "attachments": {},
   "cell_type": "markdown",
   "metadata": {},
   "source": [
    "1. Supprimer les emojis"
   ]
  },
  {
   "cell_type": "code",
   "execution_count": 4,
   "metadata": {},
   "outputs": [],
   "source": [
    "def removeEmojis(data):\n",
    "    '''Fonction qui permet de supprimer les emojis du text d'un tweet \n",
    "    (source : https://stackoverflow.com/questions/33404752/removing-emojis-from-a-string-in-python)'''\n",
    "    \n",
    "    emoj = re.compile(\"[\"\n",
    "        u\"\\U0001F600-\\U0001F64F\"  # emoticons\n",
    "        u\"\\U0001F300-\\U0001F5FF\"  # symbols & pictographs\n",
    "        u\"\\U0001F680-\\U0001F6FF\"  # transport & map symbols\n",
    "        u\"\\U0001F1E0-\\U0001F1FF\"  # flags (iOS)\n",
    "        u\"\\U00002500-\\U00002BEF\"  # chinese char\n",
    "        u\"\\U00002702-\\U000027B0\"\n",
    "        u\"\\U00002702-\\U000027B0\"\n",
    "        u\"\\U000024C2-\\U0001F251\"\n",
    "        u\"\\U0001f926-\\U0001f937\"\n",
    "        u\"\\U00010000-\\U0010ffff\"\n",
    "        u\"\\u2640-\\u2642\" \n",
    "        u\"\\u2600-\\u2B55\"\n",
    "        u\"\\u200d\"\n",
    "        u\"\\u23cf\"\n",
    "        u\"\\u23e9\"\n",
    "        u\"\\u231a\"\n",
    "        u\"\\ufe0f\"  # dingbats\n",
    "        u\"\\u3030\"\n",
    "                      \"]+\", re.UNICODE)\n",
    "    return re.sub(emoj, '', data)"
   ]
  },
  {
   "attachments": {},
   "cell_type": "markdown",
   "metadata": {},
   "source": [
    "2. Supprimer tous les caractères spéciaux"
   ]
  },
  {
   "cell_type": "code",
   "execution_count": 25,
   "metadata": {},
   "outputs": [],
   "source": [
    "def cleanText(text):\n",
    "    '''Fonction qui permet de nettoyer le texte d'un tweet a l'aide de regex'''\n",
    "    \n",
    "    text = text.lower()\n",
    "    text = removeEmojis(text)\n",
    "    text = re.sub(r'https?:\\/\\/.*[\\r\\n]*', \"\", text)                            # suppression des URL\n",
    "    text = re.sub(r'@([A-Za-z0-9_]+)', \"\", text)                                # suppresion des mentions\n",
    "    text = re.sub(r\"[A-Za-z\\.]*[0-9]+[A-Za-z%°\\.]*\", \"\", text)\n",
    "    text = re.sub(r\"#([A-Za-z0-9_]+)\", \"\", text)                                # suppresion des hashtags\n",
    "    text = re.sub(r\"[\\,\\!\\?\\%\\(\\)\\/\\\"\\&\\+\\#\\$\\£\\%\\:\\.\\@\\-\\n]\", \"\", text)\n",
    "    text = re.sub(r\"[\\é\\è\\ê]\", \"e\", text)\n",
    "    text = re.sub(r\"[\\ù]\", \"u\", text)\n",
    "    text = re.sub(r\"[\\à]\", \"a\", text)\n",
    "    text = re.sub(r\"[\\î\\ï]\", \"i\", text)\n",
    "    text = re.sub(r\"( )+\", \" \", text)\n",
    "    text = re.sub(r\"( )*$\", \"\", text)\n",
    "    text = re.sub(r\"^( )\", \"\", text)\n",
    "    \n",
    "    return text"
   ]
  },
  {
   "attachments": {},
   "cell_type": "markdown",
   "metadata": {},
   "source": [
    "Il faut maintenant créer la zone d'atterrissage des tweets. \n",
    "On crée donc une fonction qui va nous permettre d'ajouter les tweets dans un autre fichier (zone_atterrissage.json), semblable à l'initial, mais avec les textes des tweets nettoyés. "
   ]
  },
  {
   "cell_type": "code",
   "execution_count": 26,
   "metadata": {},
   "outputs": [],
   "source": [
    "def zoneAtterrissage(tweet):\n",
    "    '''Fonction qui permet de creer la zone d'atterrisage des tweets. Elle ajoute dans un fichier zone d'atterrissage, un tweet en le nettoyant.'''\n",
    "    \n",
    "    # Nettoie le texte du tweet et remplace le texte initiale par le texte nettoye\n",
    "    tweet_clean = cleanText(tweet['text'])\n",
    "    tweet['text'] = tweet_clean\n",
    "    \n",
    "    # Si le fichier de la zone d'atterrissage n'existe pas, on le creer et on y ajoute le tweet\n",
    "    if os.path.exists(\"zone_atterrissage.json\") == False:\n",
    "        with open(\"zone_atterrissage.json\", \"w\") as fil:\n",
    "            json.dump([tweet], fil)\n",
    "    \n",
    "    # Sinon, on recupere les tweets deja presents, et on y ajoute celui en cours de traitement\n",
    "    else :\n",
    "        li_tweet = reader.openFile(\"zone_atterrissage.json\")\n",
    "        with open(\"zone_atterrissage.json\", 'w') as filout :\n",
    "            li_tweet.append(tweet)\n",
    "            json.dump(li_tweet, filout)\n",
    "            \n",
    "    return\n",
    "       "
   ]
  },
  {
   "attachments": {},
   "cell_type": "markdown",
   "metadata": {},
   "source": [
    "Il nous faut à présent une fonction qui va nous permettre de traiter les tweets que l'on a à disposition. On va donc envoyer chaque tweet dans la zone d'atterrissage, l'un après l'autre."
   ]
  },
  {
   "cell_type": "code",
   "execution_count": 7,
   "metadata": {},
   "outputs": [],
   "source": [
    "def traitement_nettoyage(liste_tweet:list):\n",
    "    '''Cette fonction permet de traiter tous les tweets et de les envoyer dans la zone d'atterrissage'''\n",
    "\n",
    "    for elt in liste_tweet:\n",
    "        zoneAtterrissage(elt)\n",
    "    \n",
    "    return"
   ]
  },
  {
   "attachments": {},
   "cell_type": "markdown",
   "metadata": {},
   "source": [
    "On execute cette méthode en passant en paramètre le fichier json contenant les tweets. Après l'exécution on obtient un nouveau fichier json avec les tweets nettoyés."
   ]
  },
  {
   "cell_type": "code",
   "execution_count": 8,
   "metadata": {},
   "outputs": [],
   "source": [
    "traitement_nettoyage(dic_tweets)"
   ]
  },
  {
   "attachments": {},
   "cell_type": "markdown",
   "metadata": {},
   "source": [
    "A présent, tous les tweets sont stockés dans un nouveau fichier (zone_atterrissage.json). Ils sont nettoyés et on va pouvoir créer une zone d'entrepot, sous forme de DataFrame. On va y stocker tous les tweets avec seulement les informations dont on a besoin.\n",
    "On va donc créer une classe contenant un certain nombre de fonctions qui vont nous permettre de récupérer ces informations. "
   ]
  },
  {
   "attachments": {},
   "cell_type": "markdown",
   "metadata": {},
   "source": [
    "On va avoir des fonctions qui permettent d'extraire le texte, les hashtags, les mentions, le topic, et d'attribuer un sentiment au tweet."
   ]
  },
  {
   "cell_type": "code",
   "execution_count": 29,
   "metadata": {},
   "outputs": [],
   "source": [
    "class extract:\n",
    "    '''Classe permettant de récupérer les informations d'un tweet'''\n",
    "\n",
    "    def authorExtract(tweet):\n",
    "        '''Fonction qui retourne l'id de l'auteur du tweet'''\n",
    "        return str(tweet.get(\"author_id\"))\n",
    "\n",
    "    def textExtract(tweet):\n",
    "        '''Fonction qui retourne le text d'un tweet'''\n",
    "\n",
    "        # On recupere le texte\n",
    "        text = tweet.get(\"text\")\n",
    "\n",
    "        # S'il n'y a pas de text (exemple : c'etait une mention), on retourne None\n",
    "        if text == '':\n",
    "            return\n",
    "        \n",
    "        return text\n",
    "\n",
    "\n",
    "    def listHashtags(tweet):\n",
    "        ''' Fonction qui renvoie la liste de hashtags d'un tweet.\n",
    "        Cette fonction est utilisée dans la fonction ZoneEntrepot '''\n",
    "\n",
    "        list_hashtags = []\n",
    "        if \"entities\" in tweet:\n",
    "            if \"hashtags\" in tweet[\"entities\"]:                # on vérifie qu'il y a au moins un hashtag\n",
    "                for h in range(len(tweet[\"entities\"][\"hashtags\"])):            # on parcourt la liste des hashtags\n",
    "                    list_hashtags.append(tweet[\"entities\"][\"hashtags\"][h][\"tag\"])   \n",
    "                \n",
    "                return list_hashtags\n",
    "        \n",
    "        return\n",
    "\n",
    "\n",
    "    def listMentionedUsers(tweet):\n",
    "        ''' Fonction qui renvoie la liste des utilisateurs mentionnés dans un tweet.\n",
    "        Cette fonction est utilisée dans la fonction ZoneEntrepot '''\n",
    "\n",
    "        list_mentioned_users = []\n",
    "        \n",
    "        if \"entities\" in tweet:\n",
    "            if \"mentions\" in tweet[\"entities\"]:                # on vérifie qu'il y a au moins un utilisateur mentionné\n",
    "                for m in range(len(tweet[\"entities\"][\"mentions\"])):            # on parcourt la liste des utilisateurs mentionnés\n",
    "                    list_mentioned_users.append(tweet[\"entities\"][\"mentions\"][m][\"username\"])\n",
    "                \n",
    "                return list_mentioned_users\n",
    "        return\n",
    "\n",
    "\n",
    "    def topic(tweet):\n",
    "        ''' Fonction qui attribue un topic à un tweet de façon aléatoire.\n",
    "        Cette fonction est utilisée dans la fonction ZoneEntrepot '''\n",
    "        \n",
    "        topics = ['sport', 'politic', 'environment', 'TV', 'animal', 'nature', 'celebrity',\n",
    "                                    'travel', 'singing', 'love', 'fun', 'history', 'culture']\n",
    "        \n",
    "        if tweet.get('text') != '':             # si le tweet contient un texte\n",
    "            return rd.choice(topics)            # on va lui attribuer un topic\n",
    "        \n",
    "        return                                  # sinon, aucun topic n'est attribué \n",
    "\n",
    "    \n",
    "    def feeling(tweet):\n",
    "        ''' Fonction qui détermine le sentiment d'un tweet (positif, négatif ou neutre).\n",
    "        Cette fonction est utilisée dans la fonction ZoneEntrepot '''\n",
    "        \n",
    "        feeling = TextBlob(tweet.get(\"text\")).sentiment\n",
    "        \n",
    "        if feeling[0] < 0:\n",
    "            return \"negative\"\n",
    "        elif feeling[0] == 0:\n",
    "            return \"neutral\"\n",
    "        else:\n",
    "            return \"positive\"\n"
   ]
  },
  {
   "attachments": {},
   "cell_type": "markdown",
   "metadata": {},
   "source": [
    "Après avoir déclaré toutes ces fonctions, on peut créer la fonction zoneEntrepot pour créer un DataFrame contenant les tweets avec les informations des fonctions précédentes. Chaque tweet va correspondre à une ligne."
   ]
  },
  {
   "cell_type": "code",
   "execution_count": 30,
   "metadata": {},
   "outputs": [],
   "source": [
    "def zoneEntrepot(list):\n",
    "    '''Fonction qui prend en entrée la liste des dictionnaires correspondant\n",
    "    aux tweets issus du fichier zone_atterrissage.json et qui créer un DataFrame\n",
    "    contenant uniquement les informations qui nous intéressent'''\n",
    "\n",
    "    # Création d'un DataFrame\n",
    "    zone_entrepot = pd.DataFrame(columns = ['author_id', 'text', 'hashtags', 'mentioned_users', 'topics', 'feelings'])\n",
    "\n",
    "    for k in range(len(list)):        # on travaille sur un tweet à la fois\n",
    "        # Création d'une liste qui va contenir toutes les informations utiles de ce tweet\n",
    "        tweet = []\n",
    "        \n",
    "        # Ajout à cette liste des informations récupérées de la zone d'atterissage\n",
    "        tweet.extend([extract.authorExtract(list[k]), extract.textExtract(list[k]), extract.listHashtags(list[k]), extract.listMentionedUsers(list[k]), extract.topic(list[k]), extract.feeling(list[k])])\n",
    "        \n",
    "        # Ajout de la ligne correspondant au tweet à notre DataFrame\n",
    "        zone_entrepot.loc[k+1] = tweet\n",
    "\n",
    "    return zone_entrepot    "
   ]
  },
  {
   "attachments": {},
   "cell_type": "markdown",
   "metadata": {},
   "source": [
    "On va donc stocker dans une variable la liste des tweets présents dans le fichier zone_atterrissage pour pouvoir créer notre dataFrame à partir des tweets nettoyés. "
   ]
  },
  {
   "cell_type": "code",
   "execution_count": 31,
   "metadata": {},
   "outputs": [
    {
     "data": {
      "text/html": [
       "<div>\n",
       "<style scoped>\n",
       "    .dataframe tbody tr th:only-of-type {\n",
       "        vertical-align: middle;\n",
       "    }\n",
       "\n",
       "    .dataframe tbody tr th {\n",
       "        vertical-align: top;\n",
       "    }\n",
       "\n",
       "    .dataframe thead th {\n",
       "        text-align: right;\n",
       "    }\n",
       "</style>\n",
       "<table border=\"1\" class=\"dataframe\">\n",
       "  <thead>\n",
       "    <tr style=\"text-align: right;\">\n",
       "      <th></th>\n",
       "      <th>author_id</th>\n",
       "      <th>text</th>\n",
       "      <th>hashtags</th>\n",
       "      <th>mentioned_users</th>\n",
       "      <th>topics</th>\n",
       "      <th>feelings</th>\n",
       "    </tr>\n",
       "  </thead>\n",
       "  <tbody>\n",
       "    <tr>\n",
       "      <th>1</th>\n",
       "      <td>1339914264522461187</td>\n",
       "      <td>goumin des elephants joueurs la meme fatigue meme</td>\n",
       "      <td>[twitter225]</td>\n",
       "      <td>None</td>\n",
       "      <td>politic</td>\n",
       "      <td>neutral</td>\n",
       "    </tr>\n",
       "    <tr>\n",
       "      <th>2</th>\n",
       "      <td>1339914264522461187</td>\n",
       "      <td>mes tontons vous avez fait votre part jo proch...</td>\n",
       "      <td>[SupportriceMazo, domie, CIV]</td>\n",
       "      <td>[ericbailly24, maxigr04del]</td>\n",
       "      <td>animal</td>\n",
       "      <td>neutral</td>\n",
       "    </tr>\n",
       "    <tr>\n",
       "      <th>3</th>\n",
       "      <td>1339914264522461187</td>\n",
       "      <td>ah oui le sommeil la sera complique est elimin...</td>\n",
       "      <td>[CIV]</td>\n",
       "      <td>None</td>\n",
       "      <td>animal</td>\n",
       "      <td>neutral</td>\n",
       "    </tr>\n",
       "    <tr>\n",
       "      <th>4</th>\n",
       "      <td>1339914264522461187</td>\n",
       "      <td>juillet journee internationale de la femme afr...</td>\n",
       "      <td>[jifa]</td>\n",
       "      <td>None</td>\n",
       "      <td>history</td>\n",
       "      <td>neutral</td>\n",
       "    </tr>\n",
       "    <tr>\n",
       "      <th>5</th>\n",
       "      <td>717025418</td>\n",
       "      <td>le pedigree</td>\n",
       "      <td>None</td>\n",
       "      <td>None</td>\n",
       "      <td>TV</td>\n",
       "      <td>neutral</td>\n",
       "    </tr>\n",
       "    <tr>\n",
       "      <th>6</th>\n",
       "      <td>992904738516717570</td>\n",
       "      <td>vous avez tt a fait raison le silence incompre...</td>\n",
       "      <td>None</td>\n",
       "      <td>[isabelle170516, leonna_julie, Steiner2502]</td>\n",
       "      <td>sport</td>\n",
       "      <td>positive</td>\n",
       "    </tr>\n",
       "    <tr>\n",
       "      <th>7</th>\n",
       "      <td>992904738516717570</td>\n",
       "      <td>la grande muette continue et continuera de le ...</td>\n",
       "      <td>None</td>\n",
       "      <td>[LynLyna12, leonna_julie]</td>\n",
       "      <td>love</td>\n",
       "      <td>neutral</td>\n",
       "    </tr>\n",
       "    <tr>\n",
       "      <th>8</th>\n",
       "      <td>736523371</td>\n",
       "      <td>under wsh</td>\n",
       "      <td>None</td>\n",
       "      <td>None</td>\n",
       "      <td>environment</td>\n",
       "      <td>neutral</td>\n",
       "    </tr>\n",
       "    <tr>\n",
       "      <th>9</th>\n",
       "      <td>1471684208</td>\n",
       "      <td>les bains d'apollon a château de versailles</td>\n",
       "      <td>[versailles, nocturne, appollon]</td>\n",
       "      <td>None</td>\n",
       "      <td>celebrity</td>\n",
       "      <td>neutral</td>\n",
       "    </tr>\n",
       "    <tr>\n",
       "      <th>10</th>\n",
       "      <td>992904738516717570</td>\n",
       "      <td>le rdv aujourd'hui aura tenu ses promesses pou...</td>\n",
       "      <td>None</td>\n",
       "      <td>[leonna_julie]</td>\n",
       "      <td>celebrity</td>\n",
       "      <td>neutral</td>\n",
       "    </tr>\n",
       "    <tr>\n",
       "      <th>11</th>\n",
       "      <td>3169236915</td>\n",
       "      <td>il est temps de laisser mijoter</td>\n",
       "      <td>None</td>\n",
       "      <td>[miliemelo82, kilianbridoux, LeMeneec]</td>\n",
       "      <td>TV</td>\n",
       "      <td>neutral</td>\n",
       "    </tr>\n",
       "    <tr>\n",
       "      <th>12</th>\n",
       "      <td>992904738516717570</td>\n",
       "      <td>un mouton c'est bien plus intelligent que toi</td>\n",
       "      <td>None</td>\n",
       "      <td>[Polo82810715, lrestistant73]</td>\n",
       "      <td>sport</td>\n",
       "      <td>positive</td>\n",
       "    </tr>\n",
       "    <tr>\n",
       "      <th>13</th>\n",
       "      <td>16267684</td>\n",
       "      <td>i'm at gardens of versailles in versailles ile...</td>\n",
       "      <td>None</td>\n",
       "      <td>None</td>\n",
       "      <td>culture</td>\n",
       "      <td>neutral</td>\n",
       "    </tr>\n",
       "    <tr>\n",
       "      <th>14</th>\n",
       "      <td>60117154</td>\n",
       "      <td>jungle cruise</td>\n",
       "      <td>None</td>\n",
       "      <td>None</td>\n",
       "      <td>environment</td>\n",
       "      <td>neutral</td>\n",
       "    </tr>\n",
       "    <tr>\n",
       "      <th>15</th>\n",
       "      <td>3169236915</td>\n",
       "      <td>None</td>\n",
       "      <td>None</td>\n",
       "      <td>[Pauluskupa]</td>\n",
       "      <td>None</td>\n",
       "      <td>neutral</td>\n",
       "    </tr>\n",
       "    <tr>\n",
       "      <th>16</th>\n",
       "      <td>372993152</td>\n",
       "      <td>legend</td>\n",
       "      <td>None</td>\n",
       "      <td>[anniemacmanus]</td>\n",
       "      <td>history</td>\n",
       "      <td>neutral</td>\n",
       "    </tr>\n",
       "    <tr>\n",
       "      <th>17</th>\n",
       "      <td>372993152</td>\n",
       "      <td>None</td>\n",
       "      <td>None</td>\n",
       "      <td>[yebbasmith, anniemacmanus]</td>\n",
       "      <td>None</td>\n",
       "      <td>neutral</td>\n",
       "    </tr>\n",
       "    <tr>\n",
       "      <th>18</th>\n",
       "      <td>105241852</td>\n",
       "      <td>vient de publier une photo a quelquepart</td>\n",
       "      <td>None</td>\n",
       "      <td>None</td>\n",
       "      <td>love</td>\n",
       "      <td>neutral</td>\n",
       "    </tr>\n",
       "    <tr>\n",
       "      <th>19</th>\n",
       "      <td>2357913366</td>\n",
       "      <td>he was my lover’s accomplice</td>\n",
       "      <td>None</td>\n",
       "      <td>[AzmiAnees3]</td>\n",
       "      <td>singing</td>\n",
       "      <td>neutral</td>\n",
       "    </tr>\n",
       "    <tr>\n",
       "      <th>20</th>\n",
       "      <td>717025418</td>\n",
       "      <td>le gardien lui parle non</td>\n",
       "      <td>None</td>\n",
       "      <td>None</td>\n",
       "      <td>environment</td>\n",
       "      <td>neutral</td>\n",
       "    </tr>\n",
       "  </tbody>\n",
       "</table>\n",
       "</div>"
      ],
      "text/plain": [
       "              author_id                                               text  \\\n",
       "1   1339914264522461187  goumin des elephants joueurs la meme fatigue meme   \n",
       "2   1339914264522461187  mes tontons vous avez fait votre part jo proch...   \n",
       "3   1339914264522461187  ah oui le sommeil la sera complique est elimin...   \n",
       "4   1339914264522461187  juillet journee internationale de la femme afr...   \n",
       "5             717025418                                        le pedigree   \n",
       "6    992904738516717570  vous avez tt a fait raison le silence incompre...   \n",
       "7    992904738516717570  la grande muette continue et continuera de le ...   \n",
       "8             736523371                                          under wsh   \n",
       "9            1471684208        les bains d'apollon a château de versailles   \n",
       "10   992904738516717570  le rdv aujourd'hui aura tenu ses promesses pou...   \n",
       "11           3169236915                    il est temps de laisser mijoter   \n",
       "12   992904738516717570      un mouton c'est bien plus intelligent que toi   \n",
       "13             16267684  i'm at gardens of versailles in versailles ile...   \n",
       "14             60117154                                      jungle cruise   \n",
       "15           3169236915                                               None   \n",
       "16            372993152                                             legend   \n",
       "17            372993152                                               None   \n",
       "18            105241852           vient de publier une photo a quelquepart   \n",
       "19           2357913366                       he was my lover’s accomplice   \n",
       "20            717025418                           le gardien lui parle non   \n",
       "\n",
       "                            hashtags  \\\n",
       "1                       [twitter225]   \n",
       "2      [SupportriceMazo, domie, CIV]   \n",
       "3                              [CIV]   \n",
       "4                             [jifa]   \n",
       "5                               None   \n",
       "6                               None   \n",
       "7                               None   \n",
       "8                               None   \n",
       "9   [versailles, nocturne, appollon]   \n",
       "10                              None   \n",
       "11                              None   \n",
       "12                              None   \n",
       "13                              None   \n",
       "14                              None   \n",
       "15                              None   \n",
       "16                              None   \n",
       "17                              None   \n",
       "18                              None   \n",
       "19                              None   \n",
       "20                              None   \n",
       "\n",
       "                                mentioned_users       topics  feelings  \n",
       "1                                          None      politic   neutral  \n",
       "2                   [ericbailly24, maxigr04del]       animal   neutral  \n",
       "3                                          None       animal   neutral  \n",
       "4                                          None      history   neutral  \n",
       "5                                          None           TV   neutral  \n",
       "6   [isabelle170516, leonna_julie, Steiner2502]        sport  positive  \n",
       "7                     [LynLyna12, leonna_julie]         love   neutral  \n",
       "8                                          None  environment   neutral  \n",
       "9                                          None    celebrity   neutral  \n",
       "10                               [leonna_julie]    celebrity   neutral  \n",
       "11       [miliemelo82, kilianbridoux, LeMeneec]           TV   neutral  \n",
       "12                [Polo82810715, lrestistant73]        sport  positive  \n",
       "13                                         None      culture   neutral  \n",
       "14                                         None  environment   neutral  \n",
       "15                                 [Pauluskupa]         None   neutral  \n",
       "16                              [anniemacmanus]      history   neutral  \n",
       "17                  [yebbasmith, anniemacmanus]         None   neutral  \n",
       "18                                         None         love   neutral  \n",
       "19                                 [AzmiAnees3]      singing   neutral  \n",
       "20                                         None  environment   neutral  "
      ]
     },
     "execution_count": 31,
     "metadata": {},
     "output_type": "execute_result"
    }
   ],
   "source": [
    "#On recupere la liste des tweets\n",
    "liste_tweet = reader.openFile(\"zone_atterrissage.json\")\n",
    "\n",
    "#On stocke dans une variable le dataFrame contenant les tweets et les informations sur les tweets que l'on souhaite garder\n",
    "zone_entrepot_tweet = zoneEntrepot(liste_tweet)\n",
    "\n",
    "zone_entrepot_tweet  #Affichage du df"
   ]
  },
  {
   "attachments": {},
   "cell_type": "markdown",
   "metadata": {},
   "source": [
    "### II - Analyse des données\n",
    "\n",
    "Maintenant que nos tweets ont été nettoyés et que nous avons un DataFrame contenant uniquement les informations qui nous intéressent, nous allons pouvoir analyser et effectuer des statistiques sur nos tweets.\n",
    "\n",
    "Tout d'abord, nous cherchons à obtenir les utilisateurs publiant le plus de tweets, les hashtags ou les mentions les plus utilisés, ou bien les topics les plus répandus. Les fonctions suivantes vont permettre à l'utilisateur de connaître le \"Top k\" parmi ces informations, où k est un nombre choisi par ce dernier.\n",
    "\n",
    "Les deux fonctions suivantes seront utilisées pour obtenir les tops k :"
   ]
  },
  {
   "cell_type": "code",
   "execution_count": 33,
   "metadata": {},
   "outputs": [],
   "source": [
    "def listColumn(df, column:str, type_col:str):\n",
    "    ''' Fonction qui renvoie les éléments d'une colonne d'un DataFrame sous forme d'une liste'''\n",
    "\n",
    "    if type_col == 'int' or type_col == 'str':           # si la colonne contient des entiers ou une chaîne de caractères\n",
    "        return list(df[column])\n",
    "    \n",
    "    elif type_col == 'list':                             # si la colonne contient des listes (une liste de hashatgs\n",
    "                                                        # ou d'utilisateurs mentionnés par exemple)\n",
    "        l_lists = list(df[column])\n",
    "        l_elem = []\n",
    "        for i in l_lists:\n",
    "            if i != None:                               # on ne s'occupe pas des éléments None\n",
    "                for j in i:\n",
    "                    l_elem.append(j)\n",
    "                    \n",
    "        return l_elem"
   ]
  },
  {
   "cell_type": "code",
   "execution_count": 34,
   "metadata": {},
   "outputs": [
    {
     "name": "stdout",
     "output_type": "stream",
     "text": [
      "[['twitter225'], ['SupportriceMazo', 'domie', 'CIV'], ['CIV'], ['jifa'], None, None, None, None, ['versailles', 'nocturne', 'appollon'], None, None, None, None, None, None, None, None, None, None, None]\n"
     ]
    }
   ],
   "source": [
    "# Exemple de l'utilisation de la fonction ListColumn : affichage des hashtags des tweets\n",
    "print(listColumn(zone_entrepot_tweet, \"hashtags\", 'str'))"
   ]
  },
  {
   "cell_type": "code",
   "execution_count": 35,
   "metadata": {},
   "outputs": [],
   "source": [
    "def nbOccurencesIntoDict(list_column):\n",
    "    ''' Fonction qui crée un dictionnaire dans lequel chaque clé correspond à un utilisateur\n",
    "    ou un hashtag etc, et chaque valeur correspond au nombre d'occurrences de cet élément dans la liste'''\n",
    "\n",
    "    dic = {}\n",
    "\n",
    "    for elem in list_column:                # on parcourt la liste de tous les éléments d'une colonne\n",
    "        # Si on a déjà rencontré cet élément, on incrémente son nombre d'occurences de 1\n",
    "        if elem != None :\n",
    "            if elem in dic:                     \n",
    "                dic[elem] += 1\n",
    "            # Si on ne l'a jamais rencontré encore, on ajoute une clé               \n",
    "            else:\n",
    "                dic[elem] = 1\n",
    "\n",
    "    return dic"
   ]
  },
  {
   "cell_type": "code",
   "execution_count": 36,
   "metadata": {},
   "outputs": [
    {
     "name": "stdout",
     "output_type": "stream",
     "text": [
      "{'ericbailly24': 1, 'maxigr04del': 1, 'isabelle170516': 1, 'leonna_julie': 3, 'Steiner2502': 1, 'LynLyna12': 1, 'miliemelo82': 1, 'kilianbridoux': 1, 'LeMeneec': 1, 'Polo82810715': 1, 'lrestistant73': 1, 'Pauluskupa': 1, 'anniemacmanus': 2, 'yebbasmith': 1, 'AzmiAnees3': 1}\n"
     ]
    }
   ],
   "source": [
    "# Exemple de l'utilisation de la fonction nbOccurencesIntoDict avec les utilisateurs mentionnés\n",
    "print(nbOccurencesIntoDict(listColumn(zone_entrepot_tweet, 'mentioned_users', 'list')))"
   ]
  },
  {
   "attachments": {},
   "cell_type": "markdown",
   "metadata": {},
   "source": [
    "Les quatres fonctions suivantes permettent de trier les hashtags, les utilisateurs, les utilisateurs mentionnés ou bien les topics, que l'on retrouve le plus de fois dans la colonne du DataFrame correspondante, à celui qu'on retrouve le moins de fois.\n",
    "\n",
    "1. Pour les hashtags"
   ]
  },
  {
   "cell_type": "code",
   "execution_count": 37,
   "metadata": {},
   "outputs": [],
   "source": [
    "def sortHashtags(df):\n",
    "    ''' Fonction renvoyant une liste des hashtags triés en fonction\n",
    "    du nombre de fois qu'ils ont été utilisés'''\n",
    "\n",
    "    # On créer un dictionnaire contenant comme clés les différents hashtags\n",
    "    # et comme valeur le nombre de fois que chaque hashtag a été utilisé\n",
    "    dic_occurences = nbOccurencesIntoDict(listColumn(df, 'hashtags', 'list'))\n",
    "\n",
    "    # On trie le dictionnaire par ordre croissant des valeurs et on le transforme en liste\n",
    "    l = list(sorted(dic_occurences, key=dic_occurences.get, reverse=True))\n",
    "    if None in l:\n",
    "        del l[None]\n",
    "        \n",
    "    return l"
   ]
  },
  {
   "attachments": {},
   "cell_type": "markdown",
   "metadata": {},
   "source": [
    "2. Pour les utilisateurs"
   ]
  },
  {
   "cell_type": "code",
   "execution_count": 38,
   "metadata": {},
   "outputs": [],
   "source": [
    "def sortUsers(df):\n",
    "    ''' Fonction renvoyant une liste des utilisateurs triés en fonction\n",
    "    du nombre de fois qu'ils ont publié un tweet'''\n",
    "\n",
    "    # On créer un dictionnaire contenant comme clés les différents utilisateurs et\n",
    "    # comme valeur le nombre de tweets qu'ils ont publié\n",
    "    dic_occurences = nbOccurencesIntoDict(listColumn(df, 'author_id', 'int'))\n",
    "\n",
    "    # On trie le dictionnaire par ordre croissant des valeurs et on le transforme en liste\n",
    "    l = list(sorted(dic_occurences, key=dic_occurences.get, reverse=True))\n",
    "\n",
    "    return l"
   ]
  },
  {
   "attachments": {},
   "cell_type": "markdown",
   "metadata": {},
   "source": [
    "3. Pour les utilisateurs mentionés"
   ]
  },
  {
   "cell_type": "code",
   "execution_count": 39,
   "metadata": {},
   "outputs": [],
   "source": [
    "def sortMentionedUsers(df):\n",
    "    ''' Fonction renvoyant une liste des utilisateurs mentionnés\n",
    "    triés en fonction du nombre de mentions'''\n",
    "\n",
    "    # On créer un dictionnaire contenant comme clés les différents utilisateurs\n",
    "    # mentionnés et comme valeur le nombre de fois qu'ils ont été mentionés\n",
    "    dic_occurences = nbOccurencesIntoDict(listColumn(df, 'mentioned_users', 'list'))\n",
    "\n",
    "    # On trie le dictionnaire par ordre croissant des valeurs et on le transforme en liste\n",
    "    l = list(sorted(dic_occurences, key=dic_occurences.get, reverse=True))\n",
    "\n",
    "    return l"
   ]
  },
  {
   "attachments": {},
   "cell_type": "markdown",
   "metadata": {},
   "source": [
    "4. Pour les topics"
   ]
  },
  {
   "cell_type": "code",
   "execution_count": 40,
   "metadata": {},
   "outputs": [],
   "source": [
    "def sortTopics(df):\n",
    "    ''' Fonction renvoyant une liste des topics triés en fonction\n",
    "    du nombre de fois qu'ils ont été utilisés'''\n",
    "\n",
    "    # On créer un dictionnaire contenant comme clés les différents\n",
    "    # topics et comme valeur le nombre de tweets sur ce topic\n",
    "    dic_occurences = nbOccurencesIntoDict(listColumn(df, 'topics', 'str'))\n",
    "\n",
    "    if None in dic_occurences:\n",
    "        del dic_occurences[None]\n",
    "\n",
    "    # On trie le dictionnaire par ordre croissant des valeurs et on le transforme en liste\n",
    "    l = list(sorted(dic_occurences, key=dic_occurences.get, reverse=True))\n",
    "\n",
    "    return l"
   ]
  },
  {
   "cell_type": "code",
   "execution_count": 41,
   "metadata": {},
   "outputs": [
    {
     "data": {
      "text/plain": [
       "['leonna_julie',\n",
       " 'anniemacmanus',\n",
       " 'ericbailly24',\n",
       " 'maxigr04del',\n",
       " 'isabelle170516',\n",
       " 'Steiner2502',\n",
       " 'LynLyna12',\n",
       " 'miliemelo82',\n",
       " 'kilianbridoux',\n",
       " 'LeMeneec',\n",
       " 'Polo82810715',\n",
       " 'lrestistant73',\n",
       " 'Pauluskupa',\n",
       " 'yebbasmith',\n",
       " 'AzmiAnees3']"
      ]
     },
     "execution_count": 41,
     "metadata": {},
     "output_type": "execute_result"
    }
   ],
   "source": [
    "# Exemple d'utilisation de la fonction sortMentionedUsers\n",
    "sortMentionedUsers(zone_entrepot_tweet)\n",
    "\n",
    "# En effet, comme vu à l'exemple précédent, 'leonna_julie' est la personne qui a été mentionnée\n",
    "# le plus de fois (3 fois). Ensuite, c'est 'anniemacmanus', qui a été mentionné 2 fois, et ainsi de suite."
   ]
  },
  {
   "attachments": {},
   "cell_type": "markdown",
   "metadata": {},
   "source": [
    "Ces quatre fonctions sont utilisées dans la fonction qui suit, permettant à l'utilisateur de connaitre le Top k qu'il souhaite. "
   ]
  },
  {
   "cell_type": "code",
   "execution_count": 42,
   "metadata": {},
   "outputs": [],
   "source": [
    "def topK(df):\n",
    "    ''' Fonction qui demande à l'utilisateur le Top k qu'il souhaite connaitre,\n",
    "    ainsi que ce nombre k, puis qui renvoie ce classement demandé'''\n",
    "\n",
    "    possible_top = ('H', 'U', 'UM', 'T')\n",
    "    top = 0\n",
    "    k = -1\n",
    "\n",
    "    # On demande à l'utilisateur le Top qu'il souhaite connaitre\n",
    "    while top not in possible_top:\n",
    "        top = input(\"Quel Top voulez-vous connaitre ? hashtags (tapez H), utilisateurs (tapez U), utilisateurs mentionnés (tapez UM) ou bien topics (tapez T) ?\")\n",
    "    \n",
    "    # Utilisation des fonctions de tri par ordre croissant des colonnes\n",
    "    # du DataFrame en fonction du choix de l'utilisateur\n",
    "    if top == 'H':\n",
    "        l = sortHashtags(df)\n",
    "    elif top == 'U':\n",
    "        l = sortUsers(df)\n",
    "    elif top == 'UM':\n",
    "        l = sortMentionedUsers(df)\n",
    "    else:\n",
    "        l = sortTopics(df)\n",
    "\n",
    "    # Nombre maximum que l'utilisateur pourra entrer pour la valeur de k\n",
    "    k_max = len(l)\n",
    "\n",
    "    # Choix de la valeur k par l'utilisateur\n",
    "    k = int(input(\"Veuillez saisir k : \"))\n",
    "    while (k < 0) or (k > k_max):\n",
    "        k = int(input(\"Veuillez saisir k : \"))\n",
    "    \n",
    "    return l[:k]"
   ]
  },
  {
   "attachments": {},
   "cell_type": "markdown",
   "metadata": {},
   "source": [
    "Pour tester cette fonction et connaître le top k de votre choix, vous pouvez executer la cellule suivante et vous laisser guider par les instructions :"
   ]
  },
  {
   "cell_type": "code",
   "execution_count": 43,
   "metadata": {},
   "outputs": [
    {
     "data": {
      "text/plain": [
       "['leonna_julie', 'anniemacmanus', 'ericbailly24']"
      ]
     },
     "execution_count": 43,
     "metadata": {},
     "output_type": "execute_result"
    }
   ],
   "source": [
    "topK(zone_entrepot_tweet)"
   ]
  },
  {
   "attachments": {},
   "cell_type": "markdown",
   "metadata": {},
   "source": [
    "Maintenant, nous cherchons à analyser le nombre de publications par utilisateur, par hashtag ou bien par topic. Pour cela, nous commençons par trier nos éléments en fonction du nombre de publications dans lesquelles ils apparaissent. Ensuite, pour visualiser nos résultats, nous utilisons la bibliothèque Matplotlib, afin d'obtenir des diagrammes.\n",
    "\n",
    "1. Nombre de publications par utilisateur"
   ]
  },
  {
   "cell_type": "code",
   "execution_count": 44,
   "metadata": {},
   "outputs": [],
   "source": [
    "def nbPublicationsPerUser(df):\n",
    "    ''' Fonction qui affiche un diagramme correspondant au nombre de tweets\n",
    "    publiés par utilisateur'''\n",
    "\n",
    "    list_nb_publications = list(nbOccurencesIntoDict(listColumn(zone_entrepot_tweet, 'author_id', 'int')).values())\n",
    "    list_users = list(nbOccurencesIntoDict(listColumn(zone_entrepot_tweet, 'author_id', 'int')).keys())\n",
    "    x=np.arange(len(list_nb_publications))\n",
    "    \n",
    "    plt.pyplot.bar(x, list_nb_publications)\n",
    "\n",
    "    plt.pyplot.xticks(x, list_users, rotation = 'vertical')\n",
    "    plt.pyplot.yticks(list_nb_publications)\n",
    "\n",
    "    plt.pyplot.xlabel(\"Utilisateurs\")\n",
    "    plt.pyplot.ylabel(\"Nombre de publications\")\n",
    "    plt.pyplot.title(\"Diagramme du nombre de publications de chaque utilisateur\")\n",
    "\n",
    "    plt.pyplot.savefig(\"nb_publications_par_utilisateur.png\", bbox_inches=\"tight\", dpi=200)"
   ]
  },
  {
   "attachments": {},
   "cell_type": "markdown",
   "metadata": {},
   "source": [
    "Affichage du diagramme du nombre de publications par utilisateur :"
   ]
  },
  {
   "cell_type": "code",
   "execution_count": 45,
   "metadata": {},
   "outputs": [
    {
     "data": {
      "image/png": "[encoded data removed]",
      "text/plain": [
       "<Figure size 640x480 with 1 Axes>"
      ]
     },
     "metadata": {},
     "output_type": "display_data"
    }
   ],
   "source": [
    "nbPublicationsPerUser(zone_entrepot_tweet)"
   ]
  },
  {
   "attachments": {},
   "cell_type": "markdown",
   "metadata": {},
   "source": [
    "2. Nombre de publications par hashtag"
   ]
  },
  {
   "cell_type": "code",
   "execution_count": 46,
   "metadata": {},
   "outputs": [],
   "source": [
    "def nbPublicationsPerHashtag(df):\n",
    "    ''' Fonction qui affiche un diagramme correspondant au nombre d'apparition pour chaque hashtag'''\n",
    "\n",
    "    list_nb_publications = list(nbOccurencesIntoDict(listColumn(zone_entrepot_tweet, 'hashtags', 'list')).values())\n",
    "    list_hashtags = list(nbOccurencesIntoDict(listColumn(zone_entrepot_tweet, 'hashtags', 'list')).keys())\n",
    "    x=np.arange(len(list_nb_publications))\n",
    "    plt.pyplot.bar(x, list_nb_publications)\n",
    "\n",
    "    plt.pyplot.xticks(x, list_hashtags, rotation = 'vertical')\n",
    "    plt.pyplot.yticks(list_nb_publications)\n",
    "    \n",
    "    plt.pyplot.xlabel(\"Hashtags\")\n",
    "    plt.pyplot.ylabel(\"Nombre de publications\")\n",
    "    plt.pyplot.title(\"Diagramme du nombre de publications par hashtag\")\n",
    "\n",
    "    plt.pyplot.savefig(\"nb_publications_par_hashtag.png\", bbox_inches=\"tight\", dpi=200)"
   ]
  },
  {
   "attachments": {},
   "cell_type": "markdown",
   "metadata": {},
   "source": [
    "Affichage du diagramme du nombre de publications par hashtag :"
   ]
  },
  {
   "cell_type": "code",
   "execution_count": 47,
   "metadata": {},
   "outputs": [
    {
     "data": {
      "image/png": "[encoded data removed]",
      "text/plain": [
       "<Figure size 640x480 with 1 Axes>"
      ]
     },
     "metadata": {},
     "output_type": "display_data"
    }
   ],
   "source": [
    "nbPublicationsPerHashtag(zone_entrepot_tweet)"
   ]
  },
  {
   "attachments": {},
   "cell_type": "markdown",
   "metadata": {},
   "source": [
    "3. Nombre de publications par topic"
   ]
  },
  {
   "cell_type": "code",
   "execution_count": 48,
   "metadata": {},
   "outputs": [],
   "source": [
    "def nbPublicationsPerTopic(df):\n",
    "    ''' Fonction qui affiche un diagramme correspondant au nombre de tweets par topic'''\n",
    "\n",
    "    list_nb_publications = list(nbOccurencesIntoDict(listColumn(zone_entrepot_tweet, 'topics', 'str')).values())\n",
    "    list_topics = list(nbOccurencesIntoDict(listColumn(zone_entrepot_tweet, 'topics', 'str')).keys())\n",
    "    x=np.arange(len(list_nb_publications))\n",
    "    \n",
    "    plt.pyplot.bar(x, list_nb_publications)\n",
    "\n",
    "    plt.pyplot.xticks(x, list_topics, rotation = 'vertical')\n",
    "    plt.pyplot.yticks(list_nb_publications)\n",
    "\n",
    "    plt.pyplot.xlabel(\"Topics\")\n",
    "    plt.pyplot.ylabel(\"Nombre de publications\")\n",
    "    plt.pyplot.title(\"Diagramme du nombre de publications par topic\")\n",
    "\n",
    "    plt.pyplot.savefig(\"nb_publications_par_topic.png\", bbox_inches=\"tight\", dpi=200)"
   ]
  },
  {
   "attachments": {},
   "cell_type": "markdown",
   "metadata": {},
   "source": [
    "Affichage du diagramme du nombre de publications par topic :"
   ]
  },
  {
   "cell_type": "code",
   "execution_count": 49,
   "metadata": {},
   "outputs": [
    {
     "data": {
      "image/png": "[encoded data removed]",
      "text/plain": [
       "<Figure size 640x480 with 1 Axes>"
      ]
     },
     "metadata": {},
     "output_type": "display_data"
    }
   ],
   "source": [
    "nbPublicationsPerTopic(zone_entrepot_tweet)"
   ]
  },
  {
   "attachments": {},
   "cell_type": "markdown",
   "metadata": {},
   "source": [
    "On peut ensuite définir un certain nombre de foncions sur des utilisateurs, mentions et hashtags spécifiques."
   ]
  },
  {
   "attachments": {},
   "cell_type": "markdown",
   "metadata": {},
   "source": [
    "1. La liste des tweets d'un utilisateur"
   ]
  },
  {
   "cell_type": "code",
   "execution_count": 50,
   "metadata": {},
   "outputs": [],
   "source": [
    "def tweetByUser():\n",
    "    '''Fonction qui permet de renvoyer les tweets postés par un utilisateur spécifique'''\n",
    "\n",
    "    li_user = listColumn(zone_entrepot_tweet, 'author_id', 'str')   #On récupère la liste des utilisateurs\n",
    "    li_text = listColumn(zone_entrepot_tweet, 'text', 'str')        #On récupère la liste des textes des tweets\n",
    "    li_tweet = []                                                   #On créé une liste vide pour y ajouter les textes associés à l'utilisateur\n",
    "\n",
    "    #On demande l'utilisateur spécifique\n",
    "    user = input(\"De quel utilisateur voulez-vous voir les publications ?\")\n",
    "    while user not in li_user:\n",
    "        user = input(\"De quel utilisateur voulez-vous voir les publications ?\")\n",
    "\n",
    "    for i in range(len(li_user)-1):\n",
    "        if li_user[i] == user:\n",
    "            if li_text[i] != None:       #On vérifie qu'il y a bien un texte au tweet\n",
    "                li_tweet.append(li_text[i]) #(autre possibilité : on peut print les tweets au lieu de les ajouter dans une liste)\n",
    "    \n",
    "    return li_tweet"
   ]
  },
  {
   "cell_type": "code",
   "execution_count": 51,
   "metadata": {},
   "outputs": [
    {
     "data": {
      "text/plain": [
       "['goumin des elephants joueurs la meme fatigue meme',\n",
       " 'mes tontons vous avez fait votre part jo prochain on ira en demi final au moins bravo a vous',\n",
       " 'ah oui le sommeil la sera complique est elimine des jo ahi on peut faire ça',\n",
       " 'juillet journee internationale de la femme africaine']"
      ]
     },
     "execution_count": 51,
     "metadata": {},
     "output_type": "execute_result"
    }
   ],
   "source": [
    "tweetByUser()"
   ]
  },
  {
   "attachments": {},
   "cell_type": "markdown",
   "metadata": {},
   "source": [
    "2. La liste des tweets mentionnant un utilisateur spécifique"
   ]
  },
  {
   "cell_type": "code",
   "execution_count": 41,
   "metadata": {},
   "outputs": [],
   "source": [
    "def UserMentionedInTweet():\n",
    "    '''Fonction qui permet de renvoyer les tweets mentionnant un utilisateur spécifique'''\n",
    "\n",
    "    li_mentions = listColumn(zone_entrepot_tweet, 'mentioned_users', 'list')    #On récupère la liste des mentions sans les None (s'il n'y a pas eu de mentions)\n",
    "    li_mentions_indice = list(zone_entrepot_tweet['mentioned_users'])           #On récupère la liste des mentions avec les None pour pouvoir utiliser les indices\n",
    "    li_text = listColumn(zone_entrepot_tweet, 'text', 'str')                    #On récupère la liste des textes des tweets\n",
    "    li_tweet_mention = []                                                       #On créé une liste vide pour y ajouter les textes associés à la mention\n",
    "\n",
    "    #On demande la mention spécifique\n",
    "    mention = input(\"De quelle mention voulez-vous voir les publications ?\")\n",
    "    while mention not in li_mentions:       #On utilise la liste sans les None pour tester si la mention est bien dans les mentions possibles\n",
    "        mention = input(\"De quelle mention voulez-vous voir les publications ?\")\n",
    "\n",
    "    for i in range(len(li_mentions_indice)-1):  #On parcourt la liste avec les None pour associer les bons indices avec la liste des textes des tweets\n",
    "        if li_mentions_indice[i] != None:       #Si l'élément n'est pas None, alors il s'agit d'une liste de mentions qu'on va parcourir\n",
    "            for elt in li_mentions_indice[i]:   #On parcourt la liste des mentions\n",
    "                if elt == mention:       #On compare l'élément à la mention spécifiée\n",
    "                    li_tweet_mention.append(li_text[i])\n",
    "        \n",
    "    return li_tweet_mention"
   ]
  },
  {
   "cell_type": "code",
   "execution_count": 42,
   "metadata": {},
   "outputs": [
    {
     "data": {
      "text/plain": [
       "['vous avez tt a fait raison le silence incomprehensible du gouvernoument et des merdias sur ce tres important et dramatique sujet prouve de maniere irrefutable leur implication a ce plan diabolique maquille',\n",
       " 'la grande muette continue et continuera de le rester a part quelques irreductibles a la retraite',\n",
       " \"le rdv aujourd'hui aura tenu ses promesses pour les problemes de sommeil cachet a la melatonine mg et je dors comme un bebe reveil en pleine forme assure et sans acoutumances pas comme avec ces bequilles chimiquesbonne soiree julie\"]"
      ]
     },
     "execution_count": 42,
     "metadata": {},
     "output_type": "execute_result"
    }
   ],
   "source": [
    "UserMentionedInTweet()"
   ]
  },
  {
   "attachments": {},
   "cell_type": "markdown",
   "metadata": {},
   "source": [
    "La sortie suivante :\n",
    "\n",
    "    ['vous avez tt a fait raison le silence incomprehensible du gouvernoument et des merdias sur ce tres important et dramatique sujet prouve de maniere irrefutable leur implication a ce plan diabolique maquille',\n",
    "    'la grande muette continue et continuera de le rester a part quelques irreductibles a la retraite',\n",
    "    \"le rdv aujourd'hui aura tenu ses promesses pour les problemes de sommeil cachet a la melatonine mg et je dors comme un bebe reveil en pleine forme assure et sans acoutumances pas comme avec ces bequilles chimiquesbonne soiree julie\"] \n",
    "    \n",
    " est un exemple d'exécution de la méthode précédente avec la mention : leonna_julie"
   ]
  },
  {
   "attachments": {},
   "cell_type": "markdown",
   "metadata": {},
   "source": [
    "3. La liste des utilisateurs mentionnant un hashtag spécifique"
   ]
  },
  {
   "cell_type": "code",
   "execution_count": 43,
   "metadata": {},
   "outputs": [],
   "source": [
    "def UserMentionedInTweet():\n",
    "    '''Fonction qui permet de renvoyer les utilisateurs ayant mentionné un hashtag spécifique'''\n",
    "\n",
    "    li_hashtag = listColumn(zone_entrepot_tweet, 'hashtags', 'list')    #On récupère la liste des hashtags sans les None (s'il n'y a pas eu de hashtags)\n",
    "    li_hashtag_indice = list(zone_entrepot_tweet['hashtags'])           #On récupère la liste des hashtags avec les None pour pouvoir utiliser les indices\n",
    "    li_user_id = listColumn(zone_entrepot_tweet, 'author_id', 'str')    #On récupère la liste des utilisateurs\n",
    "    li_author_hashtag = []                                              #On créé une liste vide pour y ajouter les utilisateurs associés au hashtag\n",
    "\n",
    "    #On demande le hashtag spécifique\n",
    "    hashtag = input(\"De quel hashtag voulez-vous voir les auteurs ?\")\n",
    "    while hashtag not in li_hashtag:       #On utilise la liste sans les None pour tester si le hashtag est bien dans les hashtags possibles\n",
    "        hashtag = input(\"De quel hashtag voulez-vous voir les auteurs ?\")\n",
    "\n",
    "    for i in range(len(li_hashtag_indice)-1):  #On parcourt la liste avec les None pour associer les bons indices avec la liste des utilisateurs\n",
    "        if li_hashtag_indice[i] != None:       #Si l'élément n'est pas None, alors il s'agit d'une liste de hashtags qu'on va parcourir\n",
    "            for elt in li_hashtag_indice[i]:   #On parcourt la liste des hashtags\n",
    "                if elt == hashtag:             #On compare l'élément au hashtag spécifié\n",
    "                    if li_user_id[i] not in li_author_hashtag:  #On vérifie que l'utilisateur n'est pas déjà dans la liste\n",
    "                        li_author_hashtag.append(li_user_id[i])\n",
    "        \n",
    "    return li_author_hashtag"
   ]
  },
  {
   "cell_type": "code",
   "execution_count": 45,
   "metadata": {},
   "outputs": [
    {
     "data": {
      "text/plain": [
       "['1339914264522461187']"
      ]
     },
     "execution_count": 45,
     "metadata": {},
     "output_type": "execute_result"
    }
   ],
   "source": [
    "UserMentionedInTweet()"
   ]
  },
  {
   "attachments": {},
   "cell_type": "markdown",
   "metadata": {},
   "source": [
    "4. La liste des utilisateurs mentionnés par un utilisateur spécifique"
   ]
  },
  {
   "cell_type": "code",
   "execution_count": 46,
   "metadata": {},
   "outputs": [],
   "source": [
    "def usersMentionedByAnotherUser():\n",
    "    '''Fonction qui permet de renvoyer les mentions d'un utilisateur spécifique'''\n",
    "\n",
    "    li_user = listColumn(zone_entrepot_tweet, 'author_id', 'str')     #On récupère la liste des utilisateurs\n",
    "    li_mentions = list(zone_entrepot_tweet['mentioned_users'])        #On récupère la liste des mentions avec les None\n",
    "    li_mentioned_users = []                                           #On créé une liste vide pour y ajouter les mentions associées à l'utilisateur\n",
    "\n",
    "    #On demande l'utilisateur spécifique\n",
    "    user = input(\"De quel utilisateur voulez-vous voir les mentions ?\")\n",
    "    while user not in li_user:\n",
    "        user = input(\"De quel utilisateur voulez-vous voir les mentions ?\")\n",
    "\n",
    "    for i in range(len(li_user)-1):\n",
    "        if li_user[i] == user:\n",
    "            if li_mentions[i] != None:       #On vérifie qu'il y a bien au moins une mention par l'utilisateur\n",
    "                for elt in li_mentions[i]:   #Si oui, alors les mentions sont sous forme de liste que l'on parcourt\n",
    "                    if elt not in li_mentioned_users :  #On vérifie que la personne mentionnée ne se trouve pas déjà dans la liste\n",
    "                        li_mentioned_users.append(elt)\n",
    "    \n",
    "    return li_mentioned_users"
   ]
  },
  {
   "cell_type": "code",
   "execution_count": 266,
   "metadata": {},
   "outputs": [
    {
     "data": {
      "text/plain": [
       "['isabelle170516',\n",
       " 'leonna_julie',\n",
       " 'Steiner2502',\n",
       " 'LynLyna12',\n",
       " 'Polo82810715',\n",
       " 'lrestistant73']"
      ]
     },
     "execution_count": 266,
     "metadata": {},
     "output_type": "execute_result"
    }
   ],
   "source": [
    "usersMentionedByAnotherUser() #Exemple avec '992904738516717570'"
   ]
  }
 ],
 "metadata": {
  "kernelspec": {
   "display_name": "l1-python",
   "language": "python",
   "name": "python3"
  },
  "language_info": {
   "codemirror_mode": {
    "name": "ipython",
    "version": 3
   },
   "file_extension": ".py",
   "mimetype": "text/x-python",
   "name": "python",
   "nbconvert_exporter": "python",
   "pygments_lexer": "ipython3",
   "version": "3.10.4"
  },
  "orig_nbformat": 4,
  "vscode": {
   "interpreter": {
    "hash": "fffb65c47ed2133fd664d3a0067ed67d5fc57a12224b3043734fa1ac4f51c235"
   }
  }
 },
 "nbformat": 4,
 "nbformat_minor": 2
}
