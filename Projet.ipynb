{
 "cells": [
  {
   "attachments": {},
   "cell_type": "markdown",
   "metadata": {},
   "source": [
    "### **TD 11 et 12 - Collecte, Traitement, et Analyse de données de réseaux sociaux**\n",
    "\n",
    "*LEFEVRE Laura et LE CORRE Camille - LDD BI*"
   ]
  },
  {
   "cell_type": "code",
<<<<<<< HEAD
   "execution_count": 2,
=======
   "execution_count": 5,
>>>>>>> 27e62a5e70f43f5261a5ca0130163a5403b27510
   "metadata": {},
   "outputs": [],
   "source": [
    "#Importation des modules\n",
    "import json\n",
    "import re\n",
    "import pandas as pd\n",
<<<<<<< HEAD
    "import os\n",
=======
    "from textblob import TextBlob\n",
    "#import textblob_fr\n",
>>>>>>> 27e62a5e70f43f5261a5ca0130163a5403b27510
    "\n",
    "#Module a installer\n",
    "    #!pip install textblob\n",
    "    #!pip install textblob-fr"
   ]
  },
  {
   "cell_type": "code",
   "execution_count": 3,
   "metadata": {},
   "outputs": [],
   "source": [
    "def openFile(fileName):\n",
    "    with open(fileName, encoding='utf8') as json_data:\n",
    "        data_dict = json.load(json_data)\n",
    "        return data_dict"
   ]
  },
  {
   "cell_type": "code",
   "execution_count": 4,
   "metadata": {},
   "outputs": [
    {
     "data": {
      "text/plain": [
       "{'_id': '1421599163561742339',\n",
       " 'public_metrics': {'retweet_count': 0,\n",
       "  'reply_count': 1,\n",
       "  'like_count': 1,\n",
       "  'quote_count': 0},\n",
       " 'id': '1421599163561742339',\n",
       " 'conversation_id': '1421599163561742339',\n",
       " 'context_annotations': [{'domain': {'id': '6', 'name': 'Sports Event'},\n",
       "   'entity': {'id': '1103026158382141440',\n",
       "    'name': 'Tokyo 2020 Summer Olympics',\n",
       "    'description': 'Tokyo 2020 Summer Olympics '}}],\n",
       " 'author_id': '1339914264522461187',\n",
       " 'text': 'Ah oui le sommeil là sera compliqué. #CIV  est éliminé des JO , Ahi on peut faire ça ?',\n",
       " 'geo': {'place_id': '00b8943291443c8c'},\n",
       " 'lang': 'fr',\n",
       " 'created_at': '2021-07-31T22:30:27.000Z',\n",
       " 'entities': {'hashtags': [{'start': 37, 'end': 41, 'tag': 'CIV'}]}}"
      ]
     },
     "execution_count": 4,
     "metadata": {},
     "output_type": "execute_result"
    }
   ],
   "source": [
    "dic = openFile(\"versailles_tweets_100.json\")\n",
    "dic[2]\n"
   ]
  },
  {
   "cell_type": "code",
   "execution_count": 5,
   "metadata": {},
   "outputs": [
    {
     "data": {
      "text/plain": [
       "'Goumin des éléphants joueurs la même fatigue même 😫 #twitter225'"
      ]
     },
     "execution_count": 5,
     "metadata": {},
     "output_type": "execute_result"
    }
   ],
   "source": [
    "dic[0]['text']"
   ]
  },
  {
   "cell_type": "code",
   "execution_count": 199,
   "metadata": {},
   "outputs": [],
   "source": [
    "def remove_emojis(data):\n",
    "    emoj = re.compile(\"[\"\n",
    "        u\"\\U0001F600-\\U0001F64F\"  # emoticons\n",
    "        u\"\\U0001F300-\\U0001F5FF\"  # symbols & pictographs\n",
    "        u\"\\U0001F680-\\U0001F6FF\"  # transport & map symbols\n",
    "        u\"\\U0001F1E0-\\U0001F1FF\"  # flags (iOS)\n",
    "        u\"\\U00002500-\\U00002BEF\"  # chinese char\n",
    "        u\"\\U00002702-\\U000027B0\"\n",
    "        u\"\\U00002702-\\U000027B0\"\n",
    "        u\"\\U000024C2-\\U0001F251\"\n",
    "        u\"\\U0001f926-\\U0001f937\"\n",
    "        u\"\\U00010000-\\U0010ffff\"\n",
    "        u\"\\u2640-\\u2642\" \n",
    "        u\"\\u2600-\\u2B55\"\n",
    "        u\"\\u200d\"\n",
    "        u\"\\u23cf\"\n",
    "        u\"\\u23e9\"\n",
    "        u\"\\u231a\"\n",
    "        u\"\\ufe0f\"  # dingbats\n",
    "        u\"\\u3030\"\n",
    "                      \"]+\", re.UNICODE)\n",
    "    return re.sub(emoj, '', data)"
   ]
  },
  {
   "cell_type": "code",
   "execution_count": 200,
   "metadata": {},
   "outputs": [],
   "source": [
    "def CleanText(text):\n",
    "    text = text.lower()\n",
    "    text = re.sub(r\"[A-Za-z\\.]*[0-9]+[A-Za-z%°\\.]*\", \"\", text)\n",
    "    text = re.sub(r\"[\\,\\!\\?\\%\\(\\)\\/\\\"\\&\\+\\#\\$\\£\\%\\:\\@\\-]\", \"\", text)\n",
    "    text = re.sub(r\"[\\é\\è\\ê]\", \"e\", text)\n",
    "    text = re.sub(r\"[\\ù]\", \"u\", text)\n",
    "    text = re.sub(r\"[\\à]\", \"a\", text)\n",
    "    text = re.sub(r\"[\\î\\ï]\", \"i\", text)\n",
    "    text = remove_emojis(text)\n",
    "    text = re.sub(r\"( )+\", \" \", text)\n",
    "    text = re.sub(r\"( )*$\", \"\", text)\n",
    "    \n",
    "    return text"
   ]
  },
  {
   "cell_type": "code",
   "execution_count": 201,
   "metadata": {},
   "outputs": [
    {
     "data": {
      "text/plain": [
       "'goumin des elephants joueurs la meme fatigue meme'"
      ]
     },
     "execution_count": 201,
     "metadata": {},
     "output_type": "execute_result"
    }
   ],
   "source": [
    "CleanText(dic[0]['text'])"
   ]
  },
  {
   "cell_type": "code",
<<<<<<< HEAD
   "execution_count": 305,
=======
   "execution_count": 188,
>>>>>>> 27e62a5e70f43f5261a5ca0130163a5403b27510
   "metadata": {},
   "outputs": [],
   "source": [
    "def ZoneAtterrissage(tweet):\n",
    "    tweet_clean = CleanText(tweet['text'])\n",
    "    tweet['text'] = tweet_clean\n",
<<<<<<< HEAD
    "\n",
    "    with open(\"zone_atterrissage1.json\", \"a\") as filout:\n",
    "        taille = os.path.getsize(\"zone_atterrissage1.json\")\n",
    "        print(taille)\n",
    "        if taille == 0:\n",
    "            json.dump([tweet], filout)\n",
    "        else :\n",
    "            pass\n",
    "    \n",
    "    with open(\"zone_atterrissage1.json\", 'w', encoding='utf8') as filout:\n",
    "        taille = os.path.getsize(\"zone_atterrissage1.json\")\n",
    "        if taille > 0:\n",
    "            data_dict = json.load(filout)\n",
    "            data_dict.append(tweet)\n",
    "            json.dump(data_dict, filout)\n",
    "        "
=======
    "    with open(\"zone_atterrissage.json\", \"w\") as filout:\n",
    "        json.dump(tweet + '\\n', filout)\n"
>>>>>>> 27e62a5e70f43f5261a5ca0130163a5403b27510
   ]
  },
  {
   "cell_type": "code",
   "execution_count": 308,
   "metadata": {},
   "outputs": [],
   "source": [
    "fic = open('zone_atterrissage.json', 'r')\n",
    "fic.close()"
   ]
  },
  {
   "cell_type": "code",
   "execution_count": 306,
   "metadata": {},
   "outputs": [],
   "source": [
    "def traitement(liste_tweet):\n",
    "    \n",
    "    for elt in liste_tweet:\n",
    "        ZoneAtterrissage(elt)"
   ]
  },
  {
   "cell_type": "code",
   "execution_count": 307,
   "metadata": {},
   "outputs": [
    {
     "name": "stdout",
     "output_type": "stream",
     "text": [
      "0\n",
      "0\n",
      "0\n",
      "0\n",
      "0\n",
      "0\n",
      "0\n",
      "0\n",
      "0\n",
      "0\n",
      "0\n",
      "0\n",
      "0\n",
      "0\n",
      "0\n",
      "0\n",
      "0\n",
      "0\n",
      "0\n",
      "0\n"
     ]
    }
   ],
   "source": [
    "traitement(dic)"
   ]
  },
  {
   "cell_type": "code",
   "execution_count": 46,
   "metadata": {},
   "outputs": [
    {
     "data": {
      "text/plain": [
       "Sentiment(polarity=0.39166666666666666, subjectivity=0.4357142857142857)"
      ]
     },
     "execution_count": 46,
     "metadata": {},
     "output_type": "execute_result"
    }
   ],
   "source": [
    "testimonial = TextBlob(\"Textblob is amazingly simple to use. What great fun!\")\n",
    "testimonial.sentiment"
   ]
  },
  {
   "cell_type": "code",
   "execution_count": 2,
   "metadata": {},
   "outputs": [],
   "source": [
    "def ListHashtags(tweet):\n",
    "    ''' Fonction qui renvoie la liste de hashtags d'un tweet.\n",
    "    Cette fonction est utilisée dans la fonction ZoneEntrepot '''\n",
    "\n",
    "    list_hashtags = []\n",
    "\n",
    "    if \"hashtags\" in tweet[\"entities\"]:                # on vérifie qu'il y a au moins un hashtag\n",
    "        for h in range(len(tweet[\"entities\"][\"hashtags\"])):            # on parcourt la liste des hashtags\n",
    "            list_hashtags.append(tweet[\"entities\"][\"hashtags\"][h][\"tag\"])   \n",
    "\n",
    "    return list_hashtags"
   ]
  },
  {
   "cell_type": "code",
   "execution_count": 3,
   "metadata": {},
   "outputs": [],
   "source": [
    "def ListMentionedUsers(tweet):\n",
    "    ''' Fonction qui renvoie la liste des utilisateurs mentionnés dans un tweet.\n",
    "    Cette fonction est utilisée dans la fonction ZoneEntrepot '''\n",
    "\n",
    "    list_mentioned_users = []\n",
    "\n",
    "    if \"mentions\" in tweet[\"entities\"]:                # on vérifie qu'il y a au moins un utilisateur mentionné\n",
    "        for m in range(len(tweet[\"entities\"][\"mentions\"])):            # on parcourt la liste des utilisateurs mentionnés\n",
    "            list_mentioned_users.append(tweet[\"entities\"][\"mentions\"][m][\"username\"])\n",
    "\n",
    "    return list_mentioned_users"
   ]
  },
  {
   "cell_type": "code",
   "execution_count": 4,
   "metadata": {},
   "outputs": [],
   "source": [
    "def Topic(tweet):\n",
    "    ''' Fonction qui détermine le topic d'un tweet.\n",
    "    Cette fonction est utilisée dans la fonction ZoneEntrepot '''\n",
    "    pass"
   ]
  },
  {
   "cell_type": "code",
   "execution_count": 6,
   "metadata": {},
   "outputs": [],
   "source": [
    "def Feeling(tweet):\n",
    "    ''' Fonction qui détermine le sentiment d'un tweet (positif, négatif ou neutre).\n",
    "    Cette fonction est utilisée dans la fonction ZoneEntrepot '''\n",
    "    \n",
    "    feeling = TextBlob(tweet.get(\"texte\")).sentiment.polarity\n",
    "\n",
    "    if feeling < 0:\n",
    "        return \"negative\"\n",
    "    elif feeling == 0:\n",
    "        return \"neutral\"\n",
    "    else:\n",
    "        return \"positive\""
   ]
  },
  {
   "cell_type": "code",
   "execution_count": 6,
   "metadata": {},
   "outputs": [],
   "source": [
    "def ZoneEntrepot(list):\n",
    "    '''Fonction qui prend en entrée la liste des dictionnaires correspondant\n",
    "    aux tweets issus du fichier zone_atterrissage et qui créer un DataFrame\n",
    "    contenant uniquement les informations qui nous intéressent'''\n",
    "\n",
    "    # Création d'un DataFrame (chaque ligne va correspondre à un tweet)\n",
    "    zone_entrepot = pd.DataFrame(columns = ['author_id', 'text', 'hashtags', 'mentioned_users', 'topics', 'feelings'])\n",
    "\n",
    "    for k in range(len(list)-1):        # on travaille sur un tweet à la fois\n",
    "        # Création d'une liste qui va contenir toutes les informations utiles de ce tweet\n",
    "        tweet = []\n",
    "        # Ajout à cette liste des informations récupérées de la zone d'atterissage\n",
    "        tweet.append(list[k].get(\"author_id\"))              # auteur du tweet    \n",
    "        tweet.append(list[k].get(\"text\"))                   # texte du tweet\n",
    "        tweet.append(ListHashtags(list[k]))                 # liste des hashtags\n",
    "        tweet.append(ListMentionedUsers(list[k]))           # liste des utilisateurs mentionnés\n",
    "        tweet.append(Topic(list[k]))                        # topic\n",
    "        tweet.append(Feeling(list[k]))                      # sentiment\n",
    "        \n",
    "        # Ajout de la ligne correspondant à ce tweet à notre DataFrame\n",
    "        zone_entrepot.loc[k+1] = tweet\n",
    "\n",
    "    return zone_entrepot    "
   ]
  },
  {
   "cell_type": "code",
   "execution_count": 1,
   "metadata": {},
   "outputs": [],
   "source": [
    "def ListColumn(df, column:str):\n",
    "    ''' Fonction qui renvoie les éléments d'une colonne d'un DataFrame sous forme d'une liste'''\n",
    "\n",
    "    return list(df[column])"
   ]
  },
  {
   "cell_type": "code",
   "execution_count": 2,
   "metadata": {},
   "outputs": [],
   "source": [
    "def NbOccurencesIntoDict(l):\n",
    "    ''' Fonction qui crée un dictionnaire dans lequel chaque clé\n",
    "    correspond à un utilisateur, et chaque valeur correspond au nombre\n",
    "    d'occurrences de cet utilisateur dans la liste'''\n",
    "\n",
    "    dic = {}\n",
    "\n",
    "    for elem in l:\n",
    "        if elem in dic:\n",
    "            dic[elem] += 1\n",
    "        else:\n",
    "            dic[elem] = 1\n",
    "\n",
    "    return dic"
   ]
  },
  {
   "cell_type": "code",
   "execution_count": 3,
   "metadata": {},
   "outputs": [],
   "source": [
    "def TopKUsers(df, k):\n",
    "    ''' Fonction renvoyant les k utilisateurs ayant publié le plus de tweets'''\n",
    "\n",
    "    l_users = ListColumn(df, \"author_id\")\n",
    "    dic_occurences = NbOccurencesIntoDict(l_users)\n",
    "    #dic_occurences = NbOccurencesIntoDict(ListColumn(df, \"author_id\"))\n",
    "\n",
    "    l_sorted = list(sorted(dic_occurences, key=dic_occurences.get, reverse=True))\n",
    "\n",
    "    return l_sorted[:k]"
   ]
  }
 ],
 "metadata": {
  "kernelspec": {
   "display_name": "Python 3.10.4 ('l1-python')",
   "language": "python",
   "name": "python3"
  },
  "language_info": {
   "codemirror_mode": {
    "name": "ipython",
    "version": 3
   },
   "file_extension": ".py",
   "mimetype": "text/x-python",
   "name": "python",
   "nbconvert_exporter": "python",
   "pygments_lexer": "ipython3",
   "version": "3.10.4"
  },
  "orig_nbformat": 4,
  "vscode": {
   "interpreter": {
    "hash": "fffb65c47ed2133fd664d3a0067ed67d5fc57a12224b3043734fa1ac4f51c235"
   }
  }
 },
 "nbformat": 4,
 "nbformat_minor": 2
}
