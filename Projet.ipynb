{
 "cells": [
  {
   "cell_type": "markdown",
   "metadata": {},
   "source": [
    "## **TD 11-12**\n",
    "\n",
    "### Collecte, Traitement, et Analyse de données de réseaux sociaux\n",
    "\n",
    "LEFEVRE Laura et LE CORRE Camille - LDD BI"
   ]
  },
  {
   "cell_type": "code",
   "execution_count": null,
   "metadata": {},
   "outputs": [],
   "source": []
  }
 ],
 "metadata": {
  "kernelspec": {
   "display_name": "Python 3.9.10 ('base')",
   "language": "python",
   "name": "python3"
  },
  "language_info": {
   "name": "python",
   "version": "3.9.10"
  },
  "orig_nbformat": 4,
  "vscode": {
   "interpreter": {
    "hash": "cb2b1035614daac4e449ec9b6a86cdf631e15e13424c7bda9ee941db7cd9c5ff"
   }
  }
 },
 "nbformat": 4,
 "nbformat_minor": 2
}
