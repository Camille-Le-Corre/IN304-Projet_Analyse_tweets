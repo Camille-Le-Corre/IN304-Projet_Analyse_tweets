{
 "cells": [
  {
   "cell_type": "markdown",
   "metadata": {},
   "source": [
    "## **TD 11-12**\n",
    "\n",
    "### Collecte, Traitement, et Analyse de données de réseaux sociaux\n",
    "\n",
    "LEFEVRE Laura et LE CORRE Camille - LDD BI"
   ]
  },
  {
   "cell_type": "code",
   "execution_count": 18,
   "metadata": {},
   "outputs": [],
   "source": [
    "#Importation des modules\n",
    "import json"
   ]
  },
  {
   "cell_type": "code",
   "execution_count": 20,
   "metadata": {},
   "outputs": [
    {
     "name": "stdout",
     "output_type": "stream",
     "text": [
      "<class '_io.TextIOWrapper'>\n"
     ]
    }
   ],
   "source": [
    "with open('versailles_tweets_100.json') as json_data:\n",
    "    print(type(json_data))"
   ]
  },
  {
   "cell_type": "code",
   "execution_count": 25,
   "metadata": {},
   "outputs": [
    {
     "name": "stdout",
     "output_type": "stream",
     "text": [
      "[{'_id': '1421616335700824064', 'public_metrics': {'retweet_count': 0, 'reply_count': 0, 'like_count': 1, 'quote_count': 0}, 'id': '1421616335700824064', 'conversation_id': '1421616335700824064', 'author_id': '1339914264522461187', 'text': 'Goumin des ├®l├®phants joueurs la m├¬me fatigue m├¬me \\xadƒÿ½ #twitter225', 'geo': {'place_id': '00b8943291443c8c'}, 'lang': 'fr', 'created_at': '2021-07-31T23:38:41.000Z', 'entities': {'hashtags': [{'start': 52, 'end': 63, 'tag': 'twitter225'}]}}, {'_id': '1421599703116943360', 'public_metrics': {'retweet_count': 0, 'reply_count': 0, 'like_count': 0, 'quote_count': 0}, 'id': '1421599703116943360', 'conversation_id': '1421599703116943360', 'context_annotations': [{'domain': {'id': '6', 'name': 'Sports Event'}, 'entity': {'id': '1103026158382141440', 'name': 'Tokyo 2020 Summer Olympics', 'description': 'Tokyo 2020 Summer Olympics '}}, {'domain': {'id': '10', 'name': 'Person', 'description': 'Named people in the world like Nelson Mandela'}, 'entity': {'id': '733774054713217024', 'name': 'Max Gradel'}}, {'domain': {'id': '10', 'name': 'Person', 'description': 'Named people in the world like Nelson Mandela'}, 'entity': {'id': '733774784014622720', 'name': 'Eric Bailly'}}, {'domain': {'id': '60', 'name': 'Athlete', 'description': 'An athlete in the world, like Serena Williams or Lionel Messi'}, 'entity': {'id': '733774054713217024', 'name': 'Max Gradel'}}, {'domain': {'id': '60', 'name': 'Athlete', 'description': 'An athlete in the world, like Serena Williams or Lionel Messi'}, 'entity': {'id': '733774784014622720', 'name': 'Eric Bailly'}}], 'entities': {'mentions': [{'start': 0, 'end': 13, 'username': 'ericbailly24', 'id': '4827016745'}, {'start': 14, 'end': 26, 'username': 'maxigr04del', 'id': '254068589'}], 'hashtags': [{'start': 126, 'end': 142, 'tag': 'SupportriceMazo'}, {'start': 143, 'end': 149, 'tag': 'domie'}, {'start': 150, 'end': 154, 'tag': 'CIV'}]}, 'author_id': '1339914264522461187', 'text': '@ericbailly24 @maxigr04del  mes tontons vous avez fait votre part , JO prochain on ira en demi final au moins. BRAVO ├á vous . #SupportriceMazo #domie #CIV', 'geo': {'place_id': '00b8943291443c8c'}, 'lang': 'fr', 'created_at': '2021-07-31T22:32:35.000Z'}, {'_id': '1421599163561742339', 'public_metrics': {'retweet_count': 0, 'reply_count': 1, 'like_count': 1, 'quote_count': 0}, 'id': '1421599163561742339', 'conversation_id': '1421599163561742339', 'context_annotations': [{'domain': {'id': '6', 'name': 'Sports Event'}, 'entity': {'id': '1103026158382141440', 'name': 'Tokyo 2020 Summer Olympics', 'description': 'Tokyo 2020 Summer Olympics '}}], 'author_id': '1339914264522461187', 'text': 'Ah oui le sommeil l├á sera compliqu├®. #CIV  est ├®limin├® des JO , Ahi on peut faire ├ºa ?', 'geo': {'place_id': '00b8943291443c8c'}, 'lang': 'fr', 'created_at': '2021-07-31T22:30:27.000Z', 'entities': {'hashtags': [{'start': 37, 'end': 41, 'tag': 'CIV'}]}}, {'_id': '1421591889095057416', 'public_metrics': {'retweet_count': 0, 'reply_count': 0, 'like_count': 0, 'quote_count': 0}, 'id': '1421591889095057416', 'conversation_id': '1421591889095057416', 'author_id': '1339914264522461187', 'text': '31 juillet , journ├®e internationale de la femme africaine ÔØñ´©Å#jifa', 'geo': {'place_id': '00b8943291443c8c'}, 'lang': 'fr', 'created_at': '2021-07-31T22:01:32.000Z', 'entities': {'hashtags': [{'start': 60, 'end': 65, 'tag': 'jifa'}]}}, {'_id': '1421582795294617605', 'public_metrics': {'retweet_count': 0, 'reply_count': 0, 'like_count': 1, 'quote_count': 0}, 'id': '1421582795294617605', 'conversation_id': '1421582795294617605', 'author_id': '717025418', 'text': 'Le pedigree \\xadƒÿé\\xadƒÿé\\xadƒÿé\\xadƒÿé https://t.co/D3Rv7A2BOF', 'geo': {'place_id': '00b8943291443c8c'}, 'lang': 'es', 'created_at': '2021-07-31T21:25:24.000Z', 'entities': {'urls': [{'start': 17, 'end': 40, 'url': 'https://t.co/D3Rv7A2BOF', 'expanded_url': 'https://twitter.com/denilevrai/status/1421177226733686788', 'display_url': 'twitter.com/denilevrai/staÔÇª'}]}}, {'_id': '1421581383454052359', 'public_metrics': {'retweet_count': 2, 'reply_count': 0, 'like_count': 4, 'quote_count': 0}, 'id': '1421581383454052359', 'conversation_id': '1421256177359466498', 'entities': {'mentions': [{'start': 0, 'end': 15, 'username': 'isabelle170516', 'id': '781489936184651776'}, {'start': 16, 'end': 29, 'username': 'leonna_julie', 'id': '3200704501'}, {'start': 30, 'end': 42, 'username': 'Steiner2502', 'id': '1246352652700659713'}]}, 'author_id': '992904738516717570', 'text': '@isabelle170516 @leonna_julie @Steiner2502 Vous avez tt ├á fait raison! le silence incompr├®hensible du gouver-noument et des merdias sur ce tr├¿s important et dramatique sujet prouve de mani├¿re irr├®futable\\n leur implication ├á ce plan  diabolique maquill├®!', 'geo': {'place_id': '011a304d683c2461'}, 'lang': 'fr', 'created_at': '2021-07-31T21:19:48.000Z'}, {'_id': '1421575939700445184', 'public_metrics': {'retweet_count': 0, 'reply_count': 0, 'like_count': 1, 'quote_count': 0}, 'id': '1421575939700445184', 'conversation_id': '1421256177359466498', 'entities': {'mentions': [{'start': 0, 'end': 10, 'username': 'LynLyna12', 'id': '1355767640036438016'}, {'start': 11, 'end': 24, 'username': 'leonna_julie', 'id': '3200704501'}]}, 'author_id': '992904738516717570', 'text': '@LynLyna12 @leonna_julie La grande muette continue et continuera de le rester! ├Ç part quelques irr├®ductibles ├á la retraite?', 'geo': {'place_id': '011a304d683c2461'}, 'lang': 'fr', 'created_at': '2021-07-31T20:58:10.000Z'}, {'_id': '1421569996858269697', 'public_metrics': {'retweet_count': 0, 'reply_count': 0, 'like_count': 0, 'quote_count': 0}, 'id': '1421569996858269697', 'conversation_id': '1421569996858269697', 'author_id': '736523371', 'text': 'Under wsh \\xadƒÿ│\\xadƒÿ│\\xadƒÿ│', 'geo': {'place_id': '011a304d683c2461'}, 'lang': 'en', 'created_at': '2021-07-31T20:34:33.000Z'}, {'_id': '1421563798503272448', 'public_metrics': {'retweet_count': 0, 'reply_count': 0, 'like_count': 0, 'quote_count': 0}, 'id': '1421563798503272448', 'conversation_id': '1421563798503272448', 'author_id': '1471684208', 'text': \"Les bains d'apollon #versailles #nocturne #appollon ├á Ch├óteau de Versailles https://t.co/SFGXP06r61\", 'geo': {'place_id': '011a304d683c2461', 'coordinates': {'type': 'Point', 'coordinates': [2.12305963, 48.80396808]}}, 'lang': 'fr', 'created_at': '2021-07-31T20:09:55.000Z', 'entities': {'urls': [{'start': 76, 'end': 99, 'url': 'https://t.co/SFGXP06r61', 'expanded_url': 'https://www.instagram.com/p/CSASOyUN0OF/?utm_medium=twitter', 'display_url': 'instagram.com/p/CSASOyUN0OF/ÔÇª'}], 'hashtags': [{'start': 20, 'end': 31, 'tag': 'versailles'}, {'start': 32, 'end': 41, 'tag': 'nocturne'}, {'start': 42, 'end': 51, 'tag': 'appollon'}]}}, {'_id': '1421562928176803848', 'attachments': {'media_keys': ['3_1421562925999869960']}, 'public_metrics': {'retweet_count': 1, 'reply_count': 0, 'like_count': 2, 'quote_count': 0}, 'id': '1421562928176803848', 'conversation_id': '1421553997811421184', 'entities': {'mentions': [{'start': 0, 'end': 13, 'username': 'leonna_julie', 'id': '3200704501'}], 'urls': [{'start': 279, 'end': 302, 'url': 'https://t.co/F6zvVfWwAf', 'expanded_url': 'https://twitter.com/jol45026290/status/1421562928176803848/photo/1', 'display_url': 'pic.twitter.com/F6zvVfWwAf'}]}, 'author_id': '992904738516717570', 'text': \"@leonna_julie Le rdv aujourd'hui aura  tenu ses promesses!\\xadƒæì\\xadƒñùÔ£î´©ÅÔ£è\\xadƒÅ╝Ô£è\\xadƒÅ╝\\n Pour les probl├¿mes de sommeil  1 cachet ├á la m├®latonine 1,80 mg et je dors comme un b├®b├®!  R├®veil en pleine forme assur├®!\\xadƒÆ¬\\xadƒÅ╝ Et sans acoutumances, pas comme avec ces b├®quilles chimiques!\\xadƒÿÁÔÇì\\xadƒÆ½\\nBonne soir├®e Julie!\\xadƒîå\\xadƒîê https://t.co/F6zvVfWwAf\", 'geo': {'place_id': '011a304d683c2461'}, 'lang': 'fr', 'created_at': '2021-07-31T20:06:28.000Z'}, {'_id': '1421560592775761923', 'public_metrics': {'retweet_count': 0, 'reply_count': 0, 'like_count': 0, 'quote_count': 0}, 'id': '1421560592775761923', 'conversation_id': '1421527117720866818', 'entities': {'mentions': [{'start': 0, 'end': 12, 'username': 'miliemelo82', 'id': '741140155'}, {'start': 13, 'end': 27, 'username': 'kilianbridoux', 'id': '3177350307'}, {'start': 28, 'end': 37, 'username': 'LeMeneec', 'id': '117205564'}]}, 'author_id': '3169236915', 'text': '@miliemelo82 @kilianbridoux @LeMeneec il est temps de laisser mijoter', 'geo': {'place_id': '011a304d683c2461'}, 'lang': 'fr', 'created_at': '2021-07-31T19:57:11.000Z'}, {'_id': '1421558089761935365', 'public_metrics': {'retweet_count': 0, 'reply_count': 0, 'like_count': 0, 'quote_count': 0}, 'id': '1421558089761935365', 'conversation_id': '1421231846814330889', 'entities': {'mentions': [{'start': 0, 'end': 13, 'username': 'Polo82810715', 'id': '1071056487278104577'}, {'start': 14, 'end': 28, 'username': 'lrestistant73', 'id': '4216955975'}]}, 'author_id': '992904738516717570', 'text': \"@Polo82810715 @lrestistant73 Un mouton c'est  bien plus intelligent que toi! \\xadƒ¬│\", 'geo': {'place_id': '011a304d683c2461'}, 'lang': 'fr', 'created_at': '2021-07-31T19:47:14.000Z'}, {'_id': '1421551384512585729', 'public_metrics': {'retweet_count': 0, 'reply_count': 0, 'like_count': 0, 'quote_count': 0}, 'id': '1421551384512585729', 'conversation_id': '1421551384512585729', 'author_id': '16267684', 'text': \"I'm at Gardens of Versailles in Versailles, ├Äle-de-France https://t.co/fG7Q40cjWk\", 'geo': {'place_id': '011a304d683c2461', 'coordinates': {'type': 'Point', 'coordinates': [2.11619854, 48.80581768]}}, 'lang': 'fr', 'created_at': '2021-07-31T19:20:35.000Z', 'entities': {'urls': [{'start': 58, 'end': 81, 'url': 'https://t.co/fG7Q40cjWk', 'expanded_url': 'https://www.swarmapp.com/c/1JyyDAtYgkf', 'display_url': 'swarmapp.com/c/1JyyDAtYgkf'}]}}, {'_id': '1421550148061212673', 'public_metrics': {'retweet_count': 0, 'reply_count': 0, 'like_count': 0, 'quote_count': 0}, 'id': '1421550148061212673', 'conversation_id': '1421550148061212673', 'context_annotations': [{'domain': {'id': '86', 'name': 'Movie', 'description': 'A film like Rogue One: A Star Wars Story'}, 'entity': {'id': '1412046984840503297', 'name': 'Jungle Cruise', 'description': 'Jungle Cruise is scheduled to be released in the United States on July 30, 2021, simultaneously in theaters and through Disney+ with Premier Access.'}}, {'domain': {'id': '87', 'name': 'Movie Genre', 'description': 'A movie genre like Action'}, 'entity': {'id': '856976360337661952', 'name': 'Action & adventure films', 'description': 'Action and adventure'}}], 'author_id': '60117154', 'text': 'Jungle Cruise https://t.co/JyM8WQjz4p (@ UGC Cyrano in Versailles, ├Äle-de-France) https://t.co/ts0FrwWU8W', 'geo': {'place_id': '011a304d683c2461', 'coordinates': {'type': 'Point', 'coordinates': [2.13096244, 48.80797406]}}, 'lang': 'fr', 'created_at': '2021-07-31T19:15:41.000Z', 'entities': {'urls': [{'start': 14, 'end': 37, 'url': 'https://t.co/JyM8WQjz4p', 'expanded_url': 'http://www.allocine.fr/film/fichefilm_gen_cfilm=57197.html', 'display_url': 'allocine.fr/film/fichefilmÔÇª'}, {'start': 82, 'end': 105, 'url': 'https://t.co/ts0FrwWU8W', 'expanded_url': 'https://www.swarmapp.com/c/jsDjL5Jou3S', 'display_url': 'swarmapp.com/c/jsDjL5Jou3S'}]}}, {'_id': '1421547651171078146', 'public_metrics': {'retweet_count': 0, 'reply_count': 1, 'like_count': 0, 'quote_count': 0}, 'id': '1421547651171078146', 'conversation_id': '1421516307393044481', 'entities': {'mentions': [{'start': 0, 'end': 11, 'username': 'Pauluskupa', 'id': '109006566'}]}, 'author_id': '3169236915', 'text': '@Pauluskupa \\xadƒñª\\xadƒÅ╝ÔÇìÔÖÇ´©Å', 'geo': {'place_id': '011a304d683c2461'}, 'lang': 'und', 'created_at': '2021-07-31T19:05:45.000Z'}, {'_id': '1421499497620836356', 'public_metrics': {'retweet_count': 0, 'reply_count': 0, 'like_count': 0, 'quote_count': 0}, 'id': '1421499497620836356', 'conversation_id': '1421499497620836356', 'context_annotations': [{'domain': {'id': '10', 'name': 'Person', 'description': 'Named people in the world like Nelson Mandela'}, 'entity': {'id': '1322196533488492544', 'name': 'Annie Mac'}}, {'domain': {'id': '54', 'name': 'Musician', 'description': 'A musician in the world, like Adele or Bob Dylan'}, 'entity': {'id': '1322196533488492544', 'name': 'Annie Mac'}}], 'entities': {'mentions': [{'start': 0, 'end': 14, 'username': 'anniemacmanus', 'id': '19811019'}]}, 'author_id': '372993152', 'text': '@anniemacmanus legend!!!!', 'geo': {'place_id': '011a304d683c2461'}, 'lang': 'en', 'created_at': '2021-07-31T15:54:25.000Z'}, {'_id': '1421499329974579200', 'public_metrics': {'retweet_count': 0, 'reply_count': 0, 'like_count': 0, 'quote_count': 0}, 'id': '1421499329974579200', 'conversation_id': '1421165014254301191', 'context_annotations': [{'domain': {'id': '10', 'name': 'Person', 'description': 'Named people in the world like Nelson Mandela'}, 'entity': {'id': '1093501110977875968', 'name': 'Yebba', 'description': 'American singer '}}, {'domain': {'id': '10', 'name': 'Person', 'description': 'Named people in the world like Nelson Mandela'}, 'entity': {'id': '1322196533488492544', 'name': 'Annie Mac'}}, {'domain': {'id': '54', 'name': 'Musician', 'description': 'A musician in the world, like Adele or Bob Dylan'}, 'entity': {'id': '1093501110977875968', 'name': 'Yebba', 'description': 'American singer '}}, {'domain': {'id': '54', 'name': 'Musician', 'description': 'A musician in the world, like Adele or Bob Dylan'}, 'entity': {'id': '1322196533488492544', 'name': 'Annie Mac'}}, {'domain': {'id': '55', 'name': 'Music Genre', 'description': 'A category for a musical style, like Pop, Rock, or Rap'}, 'entity': {'id': '849684490691657728', 'name': 'Jazz', 'description': 'Jazz'}}], 'entities': {'mentions': [{'start': 0, 'end': 11, 'username': 'yebbasmith', 'id': '979128640125386753'}, {'start': 12, 'end': 26, 'username': 'anniemacmanus', 'id': '19811019'}]}, 'author_id': '372993152', 'text': '@yebbasmith @anniemacmanus \\xadƒÿì', 'geo': {'place_id': '011a304d683c2461'}, 'lang': 'und', 'created_at': '2021-07-31T15:53:45.000Z'}, {'_id': '1421487092023050244', 'public_metrics': {'retweet_count': 0, 'reply_count': 0, 'like_count': 0, 'quote_count': 0}, 'id': '1421487092023050244', 'conversation_id': '1421487092023050244', 'author_id': '105241852', 'text': 'Vient de publier une photo ├á Quelquepart ... https://t.co/fWNqGJosAA', 'geo': {'place_id': '00b8943291443c8c', 'coordinates': {'type': 'Point', 'coordinates': [2.122554, 48.82283103]}}, 'lang': 'fr', 'created_at': '2021-07-31T15:05:07.000Z', 'entities': {'urls': [{'start': 45, 'end': 68, 'url': 'https://t.co/fWNqGJosAA', 'expanded_url': 'https://www.instagram.com/p/CR_vWNFsMLR/?utm_medium=twitter', 'display_url': 'instagram.com/p/CR_vWNFsMLR/ÔÇª'}]}}, {'_id': '1421472953980571651', 'public_metrics': {'retweet_count': 0, 'reply_count': 1, 'like_count': 0, 'quote_count': 0}, 'id': '1421472953980571651', 'conversation_id': '1421384380841353225', 'entities': {'mentions': [{'start': 0, 'end': 11, 'username': 'AzmiAnees3', 'id': '1201159700395384832'}]}, 'author_id': '2357913366', 'text': '@AzmiAnees3 He was my loverÔÇÖs accomplice\\xadƒÿé\\xadƒñú\\xadƒñú', 'geo': {'place_id': '011a304d683c2461'}, 'lang': 'en', 'created_at': '2021-07-31T14:08:56.000Z'}, {'_id': '1421429486432686081', 'public_metrics': {'retweet_count': 2, 'reply_count': 1, 'like_count': 2, 'quote_count': 0}, 'id': '1421429486432686081', 'conversation_id': '1421429486432686081', 'author_id': '717025418', 'text': 'Le gardien lui parle non ? https://t.co/e3WewDSQOJ', 'geo': {'place_id': '00b8943291443c8c'}, 'lang': 'fr', 'created_at': '2021-07-31T11:16:13.000Z', 'entities': {'urls': [{'start': 27, 'end': 50, 'url': 'https://t.co/e3WewDSQOJ', 'expanded_url': 'https://twitter.com/Marck_Arthurr/status/1421427574526431235', 'display_url': 'twitter.com/Marck_Arthurr/ÔÇª'}]}}]\n"
     ]
    }
   ],
   "source": [
    "with open('versailles_tweets_100.json', encoding='cp850') as json_data:\n",
    "            data_dict = json.load(json_data)\n",
    "            print(data_dict)"
   ]
  },
  {
   "cell_type": "code",
   "execution_count": 8,
   "metadata": {},
   "outputs": [],
   "source": [
    "class tweet:\n",
    "    def __init__(self) -> None:\n",
    "        self.tweet = {\"couleur\" : \"jaune\"}"
   ]
  },
  {
   "cell_type": "code",
   "execution_count": 9,
   "metadata": {},
   "outputs": [],
   "source": [
    "tweet1 = tweet()"
   ]
  },
  {
   "cell_type": "code",
   "execution_count": 11,
   "metadata": {},
   "outputs": [
    {
     "name": "stdout",
     "output_type": "stream",
     "text": [
      "{'couleur': 'jaune'}\n"
     ]
    }
   ],
   "source": [
    "print(tweet1.tweet)"
   ]
  },
  {
   "cell_type": "code",
   "execution_count": null,
   "metadata": {},
   "outputs": [],
   "source": []
  }
 ],
 "metadata": {
  "kernelspec": {
   "display_name": "Python 3.10.4 ('l1-python')",
   "language": "python",
   "name": "python3"
  },
  "language_info": {
   "codemirror_mode": {
    "name": "ipython",
    "version": 3
   },
   "file_extension": ".py",
   "mimetype": "text/x-python",
   "name": "python",
   "nbconvert_exporter": "python",
   "pygments_lexer": "ipython3",
   "version": "3.10.4"
  },
  "orig_nbformat": 4,
  "vscode": {
   "interpreter": {
    "hash": "fffb65c47ed2133fd664d3a0067ed67d5fc57a12224b3043734fa1ac4f51c235"
   }
  }
 },
 "nbformat": 4,
 "nbformat_minor": 2
}
